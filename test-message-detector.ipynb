{
 "cells": [
  {
   "cell_type": "code",
   "execution_count": 231,
   "metadata": {},
   "outputs": [
    {
     "name": "stderr",
     "output_type": "stream",
     "text": [
      "[nltk_data] Downloading package words to\n",
      "[nltk_data]     /Users/darrylbalderas/nltk_data...\n",
      "[nltk_data]   Package words is already up-to-date!\n"
     ]
    },
    {
     "data": {
      "text/plain": [
       "True"
      ]
     },
     "execution_count": 231,
     "metadata": {},
     "output_type": "execute_result"
    }
   ],
   "source": [
    "'''\n",
    "Prediction 1:\n",
    "scenario_1: The word test appears in at least in one field\n",
    "scenario_2: All fields are at most the same\n",
    "scenario_3: One word field\n",
    "'''\n",
    "import pandas as pd\n",
    "import nltk\n",
    "from nltk.corpus import words\n",
    "import random\n",
    "nltk.download('words')"
   ]
  },
  {
   "cell_type": "code",
   "execution_count": 232,
   "metadata": {},
   "outputs": [],
   "source": [
    "# import spam collection messages\n",
    "names = ['label', 'title']\n",
    "message_data = pd.read_table(\"SMSSpamCollection\", names=names)"
   ]
  },
  {
   "cell_type": "code",
   "execution_count": 233,
   "metadata": {},
   "outputs": [],
   "source": [
    "# Remove rows that contain spam label\n",
    "message_data = message_data.drop(message_data[message_data.label == \"spam\"].index)"
   ]
  },
  {
   "cell_type": "code",
   "execution_count": 234,
   "metadata": {},
   "outputs": [],
   "source": [
    "# Drop label column\n",
    "message_data = message_data.drop('label', axis=1)"
   ]
  },
  {
   "cell_type": "code",
   "execution_count": 235,
   "metadata": {},
   "outputs": [
    {
     "data": {
      "text/html": [
       "<div>\n",
       "<style scoped>\n",
       "    .dataframe tbody tr th:only-of-type {\n",
       "        vertical-align: middle;\n",
       "    }\n",
       "\n",
       "    .dataframe tbody tr th {\n",
       "        vertical-align: top;\n",
       "    }\n",
       "\n",
       "    .dataframe thead th {\n",
       "        text-align: right;\n",
       "    }\n",
       "</style>\n",
       "<table border=\"1\" class=\"dataframe\">\n",
       "  <thead>\n",
       "    <tr style=\"text-align: right;\">\n",
       "      <th></th>\n",
       "      <th>title</th>\n",
       "    </tr>\n",
       "  </thead>\n",
       "  <tbody>\n",
       "    <tr>\n",
       "      <th>0</th>\n",
       "      <td>Go until jurong point, crazy.. Available only ...</td>\n",
       "    </tr>\n",
       "    <tr>\n",
       "      <th>1</th>\n",
       "      <td>Ok lar... Joking wif u oni...</td>\n",
       "    </tr>\n",
       "    <tr>\n",
       "      <th>2</th>\n",
       "      <td>U dun say so early hor... U c already then say...</td>\n",
       "    </tr>\n",
       "    <tr>\n",
       "      <th>3</th>\n",
       "      <td>Nah I don't think he goes to usf, he lives aro...</td>\n",
       "    </tr>\n",
       "    <tr>\n",
       "      <th>4</th>\n",
       "      <td>Even my brother is not like to speak with me. ...</td>\n",
       "    </tr>\n",
       "    <tr>\n",
       "      <th>5</th>\n",
       "      <td>As per your request 'Melle Melle (Oru Minnamin...</td>\n",
       "    </tr>\n",
       "    <tr>\n",
       "      <th>6</th>\n",
       "      <td>I'm gonna be home soon and i don't want to tal...</td>\n",
       "    </tr>\n",
       "    <tr>\n",
       "      <th>7</th>\n",
       "      <td>I've been searching for the right words to tha...</td>\n",
       "    </tr>\n",
       "    <tr>\n",
       "      <th>8</th>\n",
       "      <td>I HAVE A DATE ON SUNDAY WITH WILL!!</td>\n",
       "    </tr>\n",
       "    <tr>\n",
       "      <th>9</th>\n",
       "      <td>Oh k...i'm watching here:)</td>\n",
       "    </tr>\n",
       "  </tbody>\n",
       "</table>\n",
       "</div>"
      ],
      "text/plain": [
       "                                               title\n",
       "0  Go until jurong point, crazy.. Available only ...\n",
       "1                      Ok lar... Joking wif u oni...\n",
       "2  U dun say so early hor... U c already then say...\n",
       "3  Nah I don't think he goes to usf, he lives aro...\n",
       "4  Even my brother is not like to speak with me. ...\n",
       "5  As per your request 'Melle Melle (Oru Minnamin...\n",
       "6  I'm gonna be home soon and i don't want to tal...\n",
       "7  I've been searching for the right words to tha...\n",
       "8                I HAVE A DATE ON SUNDAY WITH WILL!!\n",
       "9                         Oh k...i'm watching here:)"
      ]
     },
     "execution_count": 235,
     "metadata": {},
     "output_type": "execute_result"
    }
   ],
   "source": [
    "message_data = message_data.reset_index(drop=True)\n",
    "message_data.head(10)"
   ]
  },
  {
   "cell_type": "code",
   "execution_count": 236,
   "metadata": {},
   "outputs": [],
   "source": [
    "english_words = dict.fromkeys(words.words(), None)\n",
    "\n",
    "def is_word(word):\n",
    "    try:\n",
    "        x = english_words[word]\n",
    "        return True\n",
    "    except:\n",
    "        return False\n",
    "\n",
    "\n",
    "def get_false_word_indexes(data, percentage):\n",
    "    indexes = []\n",
    "    for index, message in enumerate(data['title']):\n",
    "        false_word_count = 0\n",
    "        sentence = message.split()\n",
    "        for word in sentence:\n",
    "            if not is_word(word):\n",
    "                false_word_count += 1\n",
    "                if false_word_count/len(message) > false_word_percentage:\n",
    "                    indexes.append(index)\n",
    "                    break\n",
    "    return indexes\n",
    "\n",
    "def remove_single_words(data):\n",
    "    indexes = []\n",
    "    for index, message in enumerate(data['title']):\n",
    "        sentence = message.split()\n",
    "        if len(sentence) == 1:\n",
    "            indexes.append(index)\n",
    "    return indexes\n",
    "    "
   ]
  },
  {
   "cell_type": "code",
   "execution_count": 237,
   "metadata": {},
   "outputs": [
    {
     "name": "stdout",
     "output_type": "stream",
     "text": [
      "4741 number of indexes will be deleted\n",
      "CPU times: user 15.9 ms, sys: 679 µs, total: 16.6 ms\n",
      "Wall time: 16.1 ms\n"
     ]
    }
   ],
   "source": [
    "%%time\n",
    "false_word_percentage = 0.02\n",
    "indexes = get_false_word_indexes(message_data, false_word_percentage)\n",
    "print('{} number of indexes will be deleted'.format(len(indexes)))"
   ]
  },
  {
   "cell_type": "code",
   "execution_count": 238,
   "metadata": {},
   "outputs": [
    {
     "name": "stdout",
     "output_type": "stream",
     "text": [
      "Data size went from 4825 to 84\n"
     ]
    }
   ],
   "source": [
    "original_size = message_data.shape[0]\n",
    "real_messages = message_data.drop(message_data.index[indexes]).reset_index(drop=True)\n",
    "print('Data size went from {} to {}'.format(original_size, real_messages.shape[0]))"
   ]
  },
  {
   "cell_type": "code",
   "execution_count": 239,
   "metadata": {},
   "outputs": [
    {
     "data": {
      "text/html": [
       "<div>\n",
       "<style scoped>\n",
       "    .dataframe tbody tr th:only-of-type {\n",
       "        vertical-align: middle;\n",
       "    }\n",
       "\n",
       "    .dataframe tbody tr th {\n",
       "        vertical-align: top;\n",
       "    }\n",
       "\n",
       "    .dataframe thead th {\n",
       "        text-align: right;\n",
       "    }\n",
       "</style>\n",
       "<table border=\"1\" class=\"dataframe\">\n",
       "  <thead>\n",
       "    <tr style=\"text-align: right;\">\n",
       "      <th></th>\n",
       "      <th>title</th>\n",
       "    </tr>\n",
       "  </thead>\n",
       "  <tbody>\n",
       "    <tr>\n",
       "      <th>0</th>\n",
       "      <td>I see the letter B on my car</td>\n",
       "    </tr>\n",
       "    <tr>\n",
       "      <th>1</th>\n",
       "      <td>Ok i am on the way to home hi hi</td>\n",
       "    </tr>\n",
       "    <tr>\n",
       "      <th>2</th>\n",
       "      <td>I see a cup of coffee animation</td>\n",
       "    </tr>\n",
       "    <tr>\n",
       "      <th>3</th>\n",
       "      <td>Keep yourself safe for me because I need you a...</td>\n",
       "    </tr>\n",
       "    <tr>\n",
       "      <th>4</th>\n",
       "      <td>Or ill be a little closer like at the bus stop...</td>\n",
       "    </tr>\n",
       "  </tbody>\n",
       "</table>\n",
       "</div>"
      ],
      "text/plain": [
       "                                               title\n",
       "0                       I see the letter B on my car\n",
       "1                   Ok i am on the way to home hi hi\n",
       "2                    I see a cup of coffee animation\n",
       "3  Keep yourself safe for me because I need you a...\n",
       "4  Or ill be a little closer like at the bus stop..."
      ]
     },
     "execution_count": 239,
     "metadata": {},
     "output_type": "execute_result"
    }
   ],
   "source": [
    "real_messages.head()"
   ]
  },
  {
   "cell_type": "code",
   "execution_count": 240,
   "metadata": {},
   "outputs": [
    {
     "name": "stdout",
     "output_type": "stream",
     "text": [
      "8 number of indexes will be deleted\n",
      "Data size went from 84 to 76\n",
      "CPU times: user 1.39 ms, sys: 93 µs, total: 1.48 ms\n",
      "Wall time: 1.41 ms\n"
     ]
    }
   ],
   "source": [
    "%%time\n",
    "indexes = remove_single_words(real_messages)\n",
    "print('{} number of indexes will be deleted'.format(len(indexes)))\n",
    "no_single_messages = real_messages.drop(real_messages.index[indexes]).reset_index(drop=True)\n",
    "print('Data size went from {} to {}'.format(real_messages.shape[0], single_messages.shape[0]))"
   ]
  },
  {
   "cell_type": "code",
   "execution_count": 241,
   "metadata": {},
   "outputs": [],
   "source": [
    "def add_test_message(sentence):\n",
    "    words = sentence.split()\n",
    "    choice = random.randint(0,len(words) + 1)\n",
    "    update_sentence = \"\"\n",
    "    for index, word in enumerate(words):\n",
    "        if index == choice:\n",
    "            update_sentence += \"test \"\n",
    "        if index == len(words) - 1:\n",
    "            update_sentence += word\n",
    "        else:\n",
    "            update_sentence += (word + \" \")\n",
    "    if choice == len(words):\n",
    "        update_sentence += \" test\"\n",
    "    return update_sentence\n"
   ]
  },
  {
   "cell_type": "code",
   "execution_count": 252,
   "metadata": {},
   "outputs": [],
   "source": [
    "scenario_one = pd.DataFrame(no_single_messages)\n",
    "scenario_one['subtitle'] = scenario_one['title']\n",
    "scenario_one['message'] = scenario_one['title']\n",
    "for i in range(30):\n",
    "    scenario_one['subtitle'] = scenario_one['subtitle'].sample(frac=1).reset_index(drop=True)\n",
    "    scenario_one['message'] = scenario_one['message'].sample(frac=1).reset_index(drop=True)\n",
    "    scenario_one['title'] = scenario_one['subtitle'].sample(frac=1).reset_index(drop=True)"
   ]
  },
  {
   "cell_type": "code",
   "execution_count": 253,
   "metadata": {},
   "outputs": [],
   "source": [
    "for index in scenario_one.index:\n",
    "    columns = list(scenario_one.columns)\n",
    "    prob = random.random()\n",
    "    if prob < 0.33:\n",
    "        choice = random.choice(columns)\n",
    "        scenario_one.loc[index][choice] = add_test_message(scenario_one.loc[index][choice])\n",
    "    elif prob < 0.66:\n",
    "        choice = random.choice(columns)\n",
    "        scenario_one.loc[index][choice] = add_test_message(scenario_one.loc[index][choice])\n",
    "        columns.remove(choice)\n",
    "        choice = random.choice(columns)\n",
    "        scenario_one.loc[index][choice] = add_test_message(scenario_one.loc[index][choice])\n",
    "    else:\n",
    "        for column in columns:\n",
    "            scenario_one.loc[index][column] = add_test_message(scenario_one.loc[index][column])"
   ]
  },
  {
   "cell_type": "code",
   "execution_count": 255,
   "metadata": {},
   "outputs": [
    {
     "data": {
      "text/html": [
       "<div>\n",
       "<style scoped>\n",
       "    .dataframe tbody tr th:only-of-type {\n",
       "        vertical-align: middle;\n",
       "    }\n",
       "\n",
       "    .dataframe tbody tr th {\n",
       "        vertical-align: top;\n",
       "    }\n",
       "\n",
       "    .dataframe thead th {\n",
       "        text-align: right;\n",
       "    }\n",
       "</style>\n",
       "<table border=\"1\" class=\"dataframe\">\n",
       "  <thead>\n",
       "    <tr style=\"text-align: right;\">\n",
       "      <th></th>\n",
       "      <th>title</th>\n",
       "      <th>subtitle</th>\n",
       "      <th>message</th>\n",
       "    </tr>\n",
       "  </thead>\n",
       "  <tbody>\n",
       "    <tr>\n",
       "      <th>0</th>\n",
       "      <td>test I can take you at like noon</td>\n",
       "      <td>Well, I meant as opposed to my drunken night o...</td>\n",
       "      <td>I could ask carlos if we could get more if any...</td>\n",
       "    </tr>\n",
       "    <tr>\n",
       "      <th>1</th>\n",
       "      <td>I want to tell you how bad I feel test that ba...</td>\n",
       "      <td>Carlos is taking his sweet time as usual so le...</td>\n",
       "      <td>Ok test anyway no need to change with what you...</td>\n",
       "    </tr>\n",
       "    <tr>\n",
       "      <th>2</th>\n",
       "      <td>I dont want to hear anything</td>\n",
       "      <td>I cant keep talking to people if test am not s...</td>\n",
       "      <td>I dont want to hear anything test</td>\n",
       "    </tr>\n",
       "    <tr>\n",
       "      <th>3</th>\n",
       "      <td>I dont have i shall test buy one dear</td>\n",
       "      <td>I think i am disturbing her da</td>\n",
       "      <td>I cant keep talking to people if am not sure i...</td>\n",
       "    </tr>\n",
       "    <tr>\n",
       "      <th>4</th>\n",
       "      <td>Ok ill tell the company</td>\n",
       "      <td>Jesus armand really is trying to tell everybod...</td>\n",
       "      <td>I want to be there so i can kiss you and test ...</td>\n",
       "    </tr>\n",
       "  </tbody>\n",
       "</table>\n",
       "</div>"
      ],
      "text/plain": [
       "                                               title  \\\n",
       "0                   test I can take you at like noon   \n",
       "1  I want to tell you how bad I feel test that ba...   \n",
       "2                       I dont want to hear anything   \n",
       "3              I dont have i shall test buy one dear   \n",
       "4                            Ok ill tell the company   \n",
       "\n",
       "                                            subtitle  \\\n",
       "0  Well, I meant as opposed to my drunken night o...   \n",
       "1  Carlos is taking his sweet time as usual so le...   \n",
       "2  I cant keep talking to people if test am not s...   \n",
       "3                     I think i am disturbing her da   \n",
       "4  Jesus armand really is trying to tell everybod...   \n",
       "\n",
       "                                             message  \n",
       "0  I could ask carlos if we could get more if any...  \n",
       "1  Ok test anyway no need to change with what you...  \n",
       "2                  I dont want to hear anything test  \n",
       "3  I cant keep talking to people if am not sure i...  \n",
       "4  I want to be there so i can kiss you and test ...  "
      ]
     },
     "execution_count": 255,
     "metadata": {},
     "output_type": "execute_result"
    }
   ],
   "source": [
    "scenario_one.head()"
   ]
  },
  {
   "cell_type": "code",
   "execution_count": null,
   "metadata": {},
   "outputs": [],
   "source": []
  }
 ],
 "metadata": {
  "kernelspec": {
   "display_name": "Python 3",
   "language": "python",
   "name": "python3"
  },
  "language_info": {
   "codemirror_mode": {
    "name": "ipython",
    "version": 3
   },
   "file_extension": ".py",
   "mimetype": "text/x-python",
   "name": "python",
   "nbconvert_exporter": "python",
   "pygments_lexer": "ipython3",
   "version": "3.6.5"
  }
 },
 "nbformat": 4,
 "nbformat_minor": 2
}
