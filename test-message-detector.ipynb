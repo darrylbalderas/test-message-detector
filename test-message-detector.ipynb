{
 "cells": [
  {
   "cell_type": "code",
   "execution_count": 758,
   "metadata": {},
   "outputs": [
    {
     "name": "stderr",
     "output_type": "stream",
     "text": [
      "[nltk_data] Downloading package words to\n",
      "[nltk_data]     /Users/darrylbalderas/nltk_data...\n",
      "[nltk_data]   Package words is already up-to-date!\n",
      "[nltk_data] Downloading package stopwords to\n",
      "[nltk_data]     /Users/darrylbalderas/nltk_data...\n",
      "[nltk_data]   Package stopwords is already up-to-date!\n"
     ]
    },
    {
     "data": {
      "text/plain": [
       "True"
      ]
     },
     "execution_count": 758,
     "metadata": {},
     "output_type": "execute_result"
    }
   ],
   "source": [
    "'''\n",
    "Prediction 1:\n",
    "scenario_1: The word test appears in at least in one field\n",
    "scenario_2: All fields are at most the same\n",
    "scenario_3: One word field\n",
    "scenario_4: Random characters in at least in one field\n",
    "'''\n",
    "import pandas as pd\n",
    "import numpy as np\n",
    "import nltk\n",
    "from nltk.corpus import words\n",
    "from nltk.corpus import stopwords\n",
    "import random\n",
    "import matplotlib\n",
    "import matplotlib.pyplot as plt\n",
    "import string\n",
    "from sklearn.feature_extraction.text import CountVectorizer\n",
    "from sklearn.model_selection import cross_val_score, cross_val_predict\n",
    "from sklearn import metrics\n",
    "from sklearn.model_selection import train_test_split\n",
    "nltk.download('words')\n",
    "nltk.download('stopwords')"
   ]
  },
  {
   "cell_type": "code",
   "execution_count": 759,
   "metadata": {},
   "outputs": [],
   "source": [
    "# import spam collection messages\n",
    "column_names = ['label', 'title']\n",
    "message_data = pd.read_table(\"SMSSpamCollection\", names=column_names)"
   ]
  },
  {
   "cell_type": "code",
   "execution_count": 760,
   "metadata": {},
   "outputs": [],
   "source": [
    "# Remove rows that contain spam label and reset indexes\n",
    "message_data = message_data.drop(message_data[message_data.label == \"spam\"].index).reset_index(drop=True)"
   ]
  },
  {
   "cell_type": "code",
   "execution_count": 761,
   "metadata": {},
   "outputs": [],
   "source": [
    "# Drop label column\n",
    "message_data = message_data.drop('label', axis=1)"
   ]
  },
  {
   "cell_type": "code",
   "execution_count": 762,
   "metadata": {},
   "outputs": [
    {
     "data": {
      "text/html": [
       "<div>\n",
       "<style scoped>\n",
       "    .dataframe tbody tr th:only-of-type {\n",
       "        vertical-align: middle;\n",
       "    }\n",
       "\n",
       "    .dataframe tbody tr th {\n",
       "        vertical-align: top;\n",
       "    }\n",
       "\n",
       "    .dataframe thead th {\n",
       "        text-align: right;\n",
       "    }\n",
       "</style>\n",
       "<table border=\"1\" class=\"dataframe\">\n",
       "  <thead>\n",
       "    <tr style=\"text-align: right;\">\n",
       "      <th></th>\n",
       "      <th>title</th>\n",
       "    </tr>\n",
       "  </thead>\n",
       "  <tbody>\n",
       "    <tr>\n",
       "      <th>0</th>\n",
       "      <td>The quick onyx goblin jumps over the lazy dwarf</td>\n",
       "    </tr>\n",
       "    <tr>\n",
       "      <th>1</th>\n",
       "      <td>Go until jurong point, crazy.. Available only ...</td>\n",
       "    </tr>\n",
       "    <tr>\n",
       "      <th>2</th>\n",
       "      <td>Ok lar... Joking wif u oni...</td>\n",
       "    </tr>\n",
       "    <tr>\n",
       "      <th>3</th>\n",
       "      <td>U dun say so early hor... U c already then say...</td>\n",
       "    </tr>\n",
       "    <tr>\n",
       "      <th>4</th>\n",
       "      <td>Nah I don't think he goes to usf, he lives aro...</td>\n",
       "    </tr>\n",
       "    <tr>\n",
       "      <th>5</th>\n",
       "      <td>Even my brother is not like to speak with me. ...</td>\n",
       "    </tr>\n",
       "    <tr>\n",
       "      <th>6</th>\n",
       "      <td>As per your request 'Melle Melle (Oru Minnamin...</td>\n",
       "    </tr>\n",
       "    <tr>\n",
       "      <th>7</th>\n",
       "      <td>I'm gonna be home soon and i don't want to tal...</td>\n",
       "    </tr>\n",
       "    <tr>\n",
       "      <th>8</th>\n",
       "      <td>I've been searching for the right words to tha...</td>\n",
       "    </tr>\n",
       "    <tr>\n",
       "      <th>9</th>\n",
       "      <td>I HAVE A DATE ON SUNDAY WITH WILL!!</td>\n",
       "    </tr>\n",
       "  </tbody>\n",
       "</table>\n",
       "</div>"
      ],
      "text/plain": [
       "                                               title\n",
       "0    The quick onyx goblin jumps over the lazy dwarf\n",
       "1  Go until jurong point, crazy.. Available only ...\n",
       "2                      Ok lar... Joking wif u oni...\n",
       "3  U dun say so early hor... U c already then say...\n",
       "4  Nah I don't think he goes to usf, he lives aro...\n",
       "5  Even my brother is not like to speak with me. ...\n",
       "6  As per your request 'Melle Melle (Oru Minnamin...\n",
       "7  I'm gonna be home soon and i don't want to tal...\n",
       "8  I've been searching for the right words to tha...\n",
       "9                I HAVE A DATE ON SUNDAY WITH WILL!!"
      ]
     },
     "execution_count": 762,
     "metadata": {},
     "output_type": "execute_result"
    }
   ],
   "source": [
    "# Show a peek in the column\n",
    "message_data.head(10)"
   ]
  },
  {
   "cell_type": "code",
   "execution_count": 763,
   "metadata": {},
   "outputs": [
    {
     "data": {
      "text/plain": [
       "(4826, 1)"
      ]
     },
     "execution_count": 763,
     "metadata": {},
     "output_type": "execute_result"
    }
   ],
   "source": [
    "message_data.shape"
   ]
  },
  {
   "cell_type": "code",
   "execution_count": 764,
   "metadata": {},
   "outputs": [],
   "source": [
    "# load words into a dictionary for faster loading\n",
    "english_words = dict.fromkeys(words.words(), None)"
   ]
  },
  {
   "cell_type": "code",
   "execution_count": 765,
   "metadata": {},
   "outputs": [],
   "source": [
    "def is_word(word):\n",
    "    \"\"\"\n",
    "    Check if word is in english dictionary\n",
    "    \"\"\"\n",
    "    try:\n",
    "        x = english_words[word]\n",
    "        return True\n",
    "    except:\n",
    "        return False\n",
    "\n",
    "\n",
    "def get_false_word_indexes(data, percentage):\n",
    "    \"\"\"\n",
    "    Check for words that are not words and return their index\n",
    "    \"\"\"\n",
    "    indexes = []\n",
    "    for index, message in enumerate(data['title']):\n",
    "        false_word_count = 0\n",
    "        for word in message.split():\n",
    "            if not is_word(word):\n",
    "                false_word_count += 1\n",
    "                if false_word_count/len(message) > false_word_percentage:\n",
    "                    indexes.append(index)\n",
    "                    break\n",
    "    return indexes\n",
    "\n",
    "def remove_single_words(data):\n",
    "    \"\"\"\n",
    "    Returns a single words from the dataframe\n",
    "    \"\"\"\n",
    "    indexes = []\n",
    "    for index, message in enumerate(data['title']):\n",
    "        if len(message.split()) > 1:\n",
    "            continue\n",
    "        indexes.append(index)\n",
    "    return indexes\n",
    "    "
   ]
  },
  {
   "cell_type": "code",
   "execution_count": 766,
   "metadata": {},
   "outputs": [
    {
     "name": "stdout",
     "output_type": "stream",
     "text": [
      "4742 number of indexes will be deleted\n",
      "CPU times: user 22.2 ms, sys: 1.6 ms, total: 23.8 ms\n",
      "Wall time: 22.9 ms\n"
     ]
    }
   ],
   "source": [
    "false_word_percentage = 0.02\n",
    "indexes = get_false_word_indexes(message_data, false_word_percentage)\n",
    "print('{} number of indexes will be deleted'.format(len(indexes)))"
   ]
  },
  {
   "cell_type": "code",
   "execution_count": 767,
   "metadata": {},
   "outputs": [
    {
     "name": "stdout",
     "output_type": "stream",
     "text": [
      "Data size went from 4826 to 84\n",
      "CPU times: user 3.5 ms, sys: 1.81 ms, total: 5.31 ms\n",
      "Wall time: 3.59 ms\n"
     ]
    }
   ],
   "source": [
    "original_size = message_data.shape[0]\n",
    "real_messages = message_data.drop(message_data.index[indexes]).reset_index(drop=True)\n",
    "print('Data size went from {} to {}'.format(original_size, real_messages.shape[0]))"
   ]
  },
  {
   "cell_type": "code",
   "execution_count": 768,
   "metadata": {},
   "outputs": [
    {
     "data": {
      "text/html": [
       "<div>\n",
       "<style scoped>\n",
       "    .dataframe tbody tr th:only-of-type {\n",
       "        vertical-align: middle;\n",
       "    }\n",
       "\n",
       "    .dataframe tbody tr th {\n",
       "        vertical-align: top;\n",
       "    }\n",
       "\n",
       "    .dataframe thead th {\n",
       "        text-align: right;\n",
       "    }\n",
       "</style>\n",
       "<table border=\"1\" class=\"dataframe\">\n",
       "  <thead>\n",
       "    <tr style=\"text-align: right;\">\n",
       "      <th></th>\n",
       "      <th>title</th>\n",
       "    </tr>\n",
       "  </thead>\n",
       "  <tbody>\n",
       "    <tr>\n",
       "      <th>0</th>\n",
       "      <td>I see the letter B on my car</td>\n",
       "    </tr>\n",
       "    <tr>\n",
       "      <th>1</th>\n",
       "      <td>Ok i am on the way to home hi hi</td>\n",
       "    </tr>\n",
       "    <tr>\n",
       "      <th>2</th>\n",
       "      <td>I see a cup of coffee animation</td>\n",
       "    </tr>\n",
       "    <tr>\n",
       "      <th>3</th>\n",
       "      <td>Keep yourself safe for me because I need you a...</td>\n",
       "    </tr>\n",
       "    <tr>\n",
       "      <th>4</th>\n",
       "      <td>Or ill be a little closer like at the bus stop...</td>\n",
       "    </tr>\n",
       "  </tbody>\n",
       "</table>\n",
       "</div>"
      ],
      "text/plain": [
       "                                               title\n",
       "0                       I see the letter B on my car\n",
       "1                   Ok i am on the way to home hi hi\n",
       "2                    I see a cup of coffee animation\n",
       "3  Keep yourself safe for me because I need you a...\n",
       "4  Or ill be a little closer like at the bus stop..."
      ]
     },
     "execution_count": 768,
     "metadata": {},
     "output_type": "execute_result"
    }
   ],
   "source": [
    "real_messages.head()"
   ]
  },
  {
   "cell_type": "code",
   "execution_count": 769,
   "metadata": {},
   "outputs": [
    {
     "name": "stdout",
     "output_type": "stream",
     "text": [
      "8 number of indexes will be deleted\n",
      "Data size went from 84 to 76\n",
      "CPU times: user 1.31 ms, sys: 87 µs, total: 1.4 ms\n",
      "Wall time: 1.37 ms\n"
     ]
    }
   ],
   "source": [
    "indexes = remove_single_words(real_messages)\n",
    "print('{} number of indexes will be deleted'.format(len(indexes)))\n",
    "no_single_messages = real_messages.drop(real_messages.index[indexes]).reset_index(drop=True)\n",
    "print('Data size went from {} to {}'.format(real_messages.shape[0], no_single_messages.shape[0]))"
   ]
  },
  {
   "cell_type": "code",
   "execution_count": 770,
   "metadata": {},
   "outputs": [],
   "source": [
    "def add_test_message(sentence):\n",
    "    words = sentence.split()\n",
    "    prob = random.random()\n",
    "    if prob < 0.45:\n",
    "        choice = 0\n",
    "    elif prob < 0.90:\n",
    "        choice = len(words)\n",
    "    else:\n",
    "        choice = random.randint(0,len(words))\n",
    "    update_sentence = \" \".join(words[:choice]) + \" test \" + \" \".join(words[choice:])\n",
    "    return update_sentence.strip()"
   ]
  },
  {
   "cell_type": "code",
   "execution_count": 812,
   "metadata": {},
   "outputs": [
    {
     "data": {
      "text/plain": [
       "'test Hello my name darryl'"
      ]
     },
     "execution_count": 812,
     "metadata": {},
     "output_type": "execute_result"
    }
   ],
   "source": [
    "# Show that the test message in a random index of the sentence\n",
    "add_test_message(\"Hello my name darryl\")"
   ]
  },
  {
   "cell_type": "code",
   "execution_count": 772,
   "metadata": {},
   "outputs": [],
   "source": [
    "def shuffle_dataframe(df, num_shuffles):\n",
    "    for x in range(num_shuffles):\n",
    "        for column in df.columns:\n",
    "            df[column] = df[column].sample(frac=1).reset_index(drop=True)\n",
    "    return df"
   ]
  },
  {
   "cell_type": "code",
   "execution_count": 773,
   "metadata": {},
   "outputs": [],
   "source": [
    "stopwords_map = {word:0 for word in stopwords.words('english')}\n",
    "print\n",
    "punctation_map = {word:0 for word in string.punctuation}\n",
    "def text_process(mess):\n",
    "    nopunc = [char for char in mess if char not in punctation_map]\n",
    "    nopunc = ''.join(nopunc)\n",
    "    return ' '.join([word for word in nopunc.split() if word.lower() not in stopwords_map])\n",
    "\n",
    "def create_default_scenario(df):\n",
    "    scenario = pd.DataFrame(df)\n",
    "    scenario['subtitle'] = scenario['title']\n",
    "    scenario['message'] = scenario['title']\n",
    "    for column in df.columns:\n",
    "        scenario[column] = scenario[column].apply(text_process)\n",
    "    return scenario"
   ]
  },
  {
   "cell_type": "code",
   "execution_count": 774,
   "metadata": {},
   "outputs": [],
   "source": [
    "def create_scenario_one(messages):\n",
    "    df = create_default_scenario(messages)\n",
    "    df = shuffle_dataframe(df, num_shuffles=30)\n",
    "    for index in df.index:\n",
    "        prob = random.random()\n",
    "        choice = random.choice(df.columns)\n",
    "        if prob < 0.05:\n",
    "            df.loc[index][choice] = add_test_message(df.loc[index][choice])\n",
    "        elif prob < 0.15:\n",
    "            columns = list(df.columns)\n",
    "            df.loc[index][choice] = add_test_message(df.loc[index][choice])\n",
    "            columns.remove(choice)\n",
    "            choice = random.choice(columns)\n",
    "            df.loc[index][choice] = add_test_message(df.loc[index][choice])\n",
    "        else:\n",
    "            for column in df.columns:\n",
    "                df.loc[index][column] = add_test_message(df.loc[index][column])\n",
    "    return df"
   ]
  },
  {
   "cell_type": "code",
   "execution_count": 775,
   "metadata": {},
   "outputs": [],
   "source": [
    "def create_scenario_two(messages):\n",
    "    return create_default_scenario(messages)"
   ]
  },
  {
   "cell_type": "code",
   "execution_count": 776,
   "metadata": {},
   "outputs": [],
   "source": [
    "def create_scenario_three(messages):\n",
    "    df = create_default_scenario(messages)\n",
    "    for column in df.columns:\n",
    "        df[column] = df[column].apply(lambda x: x.split()[0])\n",
    "    return df"
   ]
  },
  {
   "cell_type": "code",
   "execution_count": 777,
   "metadata": {},
   "outputs": [],
   "source": [
    "def create_random_chars():\n",
    "    letters = string.ascii_letters\n",
    "    num_chars = random.randint(5, 12)\n",
    "    return \"\".join([random.choice(string.ascii_letters) for _ in range(num_chars)])\n",
    "\n",
    "def create_scenario_four(messages):\n",
    "    df = create_default_scenario(messages)\n",
    "    for column in df.columns:\n",
    "        df[column] = df[column].apply(lambda x: create_random_chars())\n",
    "    return df"
   ]
  },
  {
   "cell_type": "code",
   "execution_count": 778,
   "metadata": {},
   "outputs": [],
   "source": [
    "create_scenario_one(no_single_messages).to_csv(\"test_messages.csv\")"
   ]
  },
  {
   "cell_type": "code",
   "execution_count": 779,
   "metadata": {},
   "outputs": [
    {
     "data": {
      "text/html": [
       "<div>\n",
       "<style scoped>\n",
       "    .dataframe tbody tr th:only-of-type {\n",
       "        vertical-align: middle;\n",
       "    }\n",
       "\n",
       "    .dataframe tbody tr th {\n",
       "        vertical-align: top;\n",
       "    }\n",
       "\n",
       "    .dataframe thead th {\n",
       "        text-align: right;\n",
       "    }\n",
       "</style>\n",
       "<table border=\"1\" class=\"dataframe\">\n",
       "  <thead>\n",
       "    <tr style=\"text-align: right;\">\n",
       "      <th></th>\n",
       "      <th>title</th>\n",
       "      <th>subtitle</th>\n",
       "      <th>message</th>\n",
       "    </tr>\n",
       "  </thead>\n",
       "  <tbody>\n",
       "    <tr>\n",
       "      <th>0</th>\n",
       "      <td>Ok way home hi hi</td>\n",
       "      <td>Ok way home hi hi</td>\n",
       "      <td>Ok way home hi hi</td>\n",
       "    </tr>\n",
       "    <tr>\n",
       "      <th>1</th>\n",
       "      <td>couldnt say dying man feel sad go wanted know ...</td>\n",
       "      <td>couldnt say dying man feel sad go wanted know ...</td>\n",
       "      <td>couldnt say dying man feel sad go wanted know ...</td>\n",
       "    </tr>\n",
       "    <tr>\n",
       "      <th>2</th>\n",
       "      <td>need say anything know outsider</td>\n",
       "      <td>need say anything know outsider</td>\n",
       "      <td>need say anything know outsider</td>\n",
       "    </tr>\n",
       "    <tr>\n",
       "      <th>3</th>\n",
       "      <td>idea</td>\n",
       "      <td>idea</td>\n",
       "      <td>idea</td>\n",
       "    </tr>\n",
       "    <tr>\n",
       "      <th>4</th>\n",
       "      <td>know people still town</td>\n",
       "      <td>know people still town</td>\n",
       "      <td>know people still town</td>\n",
       "    </tr>\n",
       "  </tbody>\n",
       "</table>\n",
       "</div>"
      ],
      "text/plain": [
       "                                               title  \\\n",
       "0                                  Ok way home hi hi   \n",
       "1  couldnt say dying man feel sad go wanted know ...   \n",
       "2                    need say anything know outsider   \n",
       "3                                               idea   \n",
       "4                             know people still town   \n",
       "\n",
       "                                            subtitle  \\\n",
       "0                                  Ok way home hi hi   \n",
       "1  couldnt say dying man feel sad go wanted know ...   \n",
       "2                    need say anything know outsider   \n",
       "3                                               idea   \n",
       "4                             know people still town   \n",
       "\n",
       "                                             message  \n",
       "0                                  Ok way home hi hi  \n",
       "1  couldnt say dying man feel sad go wanted know ...  \n",
       "2                    need say anything know outsider  \n",
       "3                                               idea  \n",
       "4                             know people still town  "
      ]
     },
     "execution_count": 779,
     "metadata": {},
     "output_type": "execute_result"
    }
   ],
   "source": [
    "create_scenario_two(no_single_messages).head()"
   ]
  },
  {
   "cell_type": "code",
   "execution_count": 780,
   "metadata": {},
   "outputs": [
    {
     "data": {
      "text/html": [
       "<div>\n",
       "<style scoped>\n",
       "    .dataframe tbody tr th:only-of-type {\n",
       "        vertical-align: middle;\n",
       "    }\n",
       "\n",
       "    .dataframe tbody tr th {\n",
       "        vertical-align: top;\n",
       "    }\n",
       "\n",
       "    .dataframe thead th {\n",
       "        text-align: right;\n",
       "    }\n",
       "</style>\n",
       "<table border=\"1\" class=\"dataframe\">\n",
       "  <thead>\n",
       "    <tr style=\"text-align: right;\">\n",
       "      <th></th>\n",
       "      <th>title</th>\n",
       "      <th>subtitle</th>\n",
       "      <th>message</th>\n",
       "    </tr>\n",
       "  </thead>\n",
       "  <tbody>\n",
       "    <tr>\n",
       "      <th>0</th>\n",
       "      <td>Ok</td>\n",
       "      <td>Ok</td>\n",
       "      <td>Ok</td>\n",
       "    </tr>\n",
       "    <tr>\n",
       "      <th>1</th>\n",
       "      <td>couldnt</td>\n",
       "      <td>couldnt</td>\n",
       "      <td>couldnt</td>\n",
       "    </tr>\n",
       "    <tr>\n",
       "      <th>2</th>\n",
       "      <td>need</td>\n",
       "      <td>need</td>\n",
       "      <td>need</td>\n",
       "    </tr>\n",
       "    <tr>\n",
       "      <th>3</th>\n",
       "      <td>idea</td>\n",
       "      <td>idea</td>\n",
       "      <td>idea</td>\n",
       "    </tr>\n",
       "    <tr>\n",
       "      <th>4</th>\n",
       "      <td>know</td>\n",
       "      <td>know</td>\n",
       "      <td>know</td>\n",
       "    </tr>\n",
       "  </tbody>\n",
       "</table>\n",
       "</div>"
      ],
      "text/plain": [
       "     title subtitle  message\n",
       "0       Ok       Ok       Ok\n",
       "1  couldnt  couldnt  couldnt\n",
       "2     need     need     need\n",
       "3     idea     idea     idea\n",
       "4     know     know     know"
      ]
     },
     "execution_count": 780,
     "metadata": {},
     "output_type": "execute_result"
    }
   ],
   "source": [
    "create_scenario_three(no_single_messages).head()"
   ]
  },
  {
   "cell_type": "code",
   "execution_count": 781,
   "metadata": {},
   "outputs": [
    {
     "data": {
      "text/html": [
       "<div>\n",
       "<style scoped>\n",
       "    .dataframe tbody tr th:only-of-type {\n",
       "        vertical-align: middle;\n",
       "    }\n",
       "\n",
       "    .dataframe tbody tr th {\n",
       "        vertical-align: top;\n",
       "    }\n",
       "\n",
       "    .dataframe thead th {\n",
       "        text-align: right;\n",
       "    }\n",
       "</style>\n",
       "<table border=\"1\" class=\"dataframe\">\n",
       "  <thead>\n",
       "    <tr style=\"text-align: right;\">\n",
       "      <th></th>\n",
       "      <th>title</th>\n",
       "      <th>subtitle</th>\n",
       "      <th>message</th>\n",
       "    </tr>\n",
       "  </thead>\n",
       "  <tbody>\n",
       "    <tr>\n",
       "      <th>0</th>\n",
       "      <td>YdOKhSdnsHe</td>\n",
       "      <td>LZCLFy</td>\n",
       "      <td>zfYbS</td>\n",
       "    </tr>\n",
       "    <tr>\n",
       "      <th>1</th>\n",
       "      <td>pePhJyQ</td>\n",
       "      <td>BKKODw</td>\n",
       "      <td>HAGVlhJYZ</td>\n",
       "    </tr>\n",
       "    <tr>\n",
       "      <th>2</th>\n",
       "      <td>DNIcnVPTgbvL</td>\n",
       "      <td>BCTXn</td>\n",
       "      <td>zYYMA</td>\n",
       "    </tr>\n",
       "    <tr>\n",
       "      <th>3</th>\n",
       "      <td>qknQEtja</td>\n",
       "      <td>kNiWLmzWrst</td>\n",
       "      <td>zoLyvhnJZgzR</td>\n",
       "    </tr>\n",
       "    <tr>\n",
       "      <th>4</th>\n",
       "      <td>lMwpDyJQTs</td>\n",
       "      <td>trEWaeeqkz</td>\n",
       "      <td>dHPNIXLt</td>\n",
       "    </tr>\n",
       "  </tbody>\n",
       "</table>\n",
       "</div>"
      ],
      "text/plain": [
       "          title     subtitle       message\n",
       "0   YdOKhSdnsHe       LZCLFy         zfYbS\n",
       "1       pePhJyQ       BKKODw     HAGVlhJYZ\n",
       "2  DNIcnVPTgbvL        BCTXn         zYYMA\n",
       "3      qknQEtja  kNiWLmzWrst  zoLyvhnJZgzR\n",
       "4    lMwpDyJQTs   trEWaeeqkz      dHPNIXLt"
      ]
     },
     "execution_count": 781,
     "metadata": {},
     "output_type": "execute_result"
    }
   ],
   "source": [
    "create_scenario_four(no_single_messages).head()"
   ]
  },
  {
   "cell_type": "code",
   "execution_count": 782,
   "metadata": {},
   "outputs": [],
   "source": [
    "# concatenate dataframes that has possible test messages\n",
    "indexes = remove_single_words(real_messages)\n",
    "no_single_messages = real_messages.drop(real_messages.index[indexes]).reset_index(drop=True)\n",
    "test_messages = pd.concat([create_scenario_one(no_single_messages),\n",
    "          create_scenario_two(no_single_messages),\n",
    "          create_scenario_three(no_single_messages),\n",
    "          create_scenario_four(no_single_messages)])"
   ]
  },
  {
   "cell_type": "code",
   "execution_count": 783,
   "metadata": {},
   "outputs": [
    {
     "data": {
      "text/html": [
       "<div>\n",
       "<style scoped>\n",
       "    .dataframe tbody tr th:only-of-type {\n",
       "        vertical-align: middle;\n",
       "    }\n",
       "\n",
       "    .dataframe tbody tr th {\n",
       "        vertical-align: top;\n",
       "    }\n",
       "\n",
       "    .dataframe thead th {\n",
       "        text-align: right;\n",
       "    }\n",
       "</style>\n",
       "<table border=\"1\" class=\"dataframe\">\n",
       "  <thead>\n",
       "    <tr style=\"text-align: right;\">\n",
       "      <th></th>\n",
       "      <th>title</th>\n",
       "      <th>subtitle</th>\n",
       "      <th>message</th>\n",
       "      <th>label</th>\n",
       "    </tr>\n",
       "  </thead>\n",
       "  <tbody>\n",
       "    <tr>\n",
       "      <th>0</th>\n",
       "      <td>test Ok come ur home half hour</td>\n",
       "      <td>know mood today test</td>\n",
       "      <td>test Carry disturbing</td>\n",
       "      <td>1</td>\n",
       "    </tr>\n",
       "    <tr>\n",
       "      <th>1</th>\n",
       "      <td>know people hit fuck yes test</td>\n",
       "      <td>test Ok come ur home half hour</td>\n",
       "      <td>test turns stereo love mi phone unknown album</td>\n",
       "      <td>1</td>\n",
       "    </tr>\n",
       "    <tr>\n",
       "      <th>2</th>\n",
       "      <td>test Ok anyway need change said</td>\n",
       "      <td>U made appointment test</td>\n",
       "      <td>test could ask carlos could get anybody else chip</td>\n",
       "      <td>1</td>\n",
       "    </tr>\n",
       "    <tr>\n",
       "      <th>3</th>\n",
       "      <td>could ask carlos could get anybody else chip test</td>\n",
       "      <td>Ok another number test</td>\n",
       "      <td>test still havent collected dough pls let know...</td>\n",
       "      <td>1</td>\n",
       "    </tr>\n",
       "    <tr>\n",
       "      <th>4</th>\n",
       "      <td>test Ok need tell anything going sleep good night</td>\n",
       "      <td>test need say anything know outsider</td>\n",
       "      <td>test Well meant opposed drunken night</td>\n",
       "      <td>1</td>\n",
       "    </tr>\n",
       "  </tbody>\n",
       "</table>\n",
       "</div>"
      ],
      "text/plain": [
       "                                               title  \\\n",
       "0                     test Ok come ur home half hour   \n",
       "1                      know people hit fuck yes test   \n",
       "2                    test Ok anyway need change said   \n",
       "3  could ask carlos could get anybody else chip test   \n",
       "4  test Ok need tell anything going sleep good night   \n",
       "\n",
       "                               subtitle  \\\n",
       "0                  know mood today test   \n",
       "1        test Ok come ur home half hour   \n",
       "2               U made appointment test   \n",
       "3                Ok another number test   \n",
       "4  test need say anything know outsider   \n",
       "\n",
       "                                             message  label  \n",
       "0                              test Carry disturbing      1  \n",
       "1      test turns stereo love mi phone unknown album      1  \n",
       "2  test could ask carlos could get anybody else chip      1  \n",
       "3  test still havent collected dough pls let know...      1  \n",
       "4              test Well meant opposed drunken night      1  "
      ]
     },
     "execution_count": 783,
     "metadata": {},
     "output_type": "execute_result"
    }
   ],
   "source": [
    "# add label column for distinguish that this is a test message \n",
    "test_messages['label'] = 1\n",
    "test_messages.head()"
   ]
  },
  {
   "cell_type": "code",
   "execution_count": 784,
   "metadata": {},
   "outputs": [],
   "source": [
    "indexes = remove_single_words(real_messages)\n",
    "no_single_messages = real_messages.drop(real_messages.index[indexes]).reset_index(drop=True)\n",
    "no_test_messages = create_default_scenario(no_single_messages)\n",
    "no_test_messages = shuffle_dataframe(no_test_messages, num_shuffles=50)"
   ]
  },
  {
   "cell_type": "code",
   "execution_count": 785,
   "metadata": {},
   "outputs": [
    {
     "data": {
      "text/html": [
       "<div>\n",
       "<style scoped>\n",
       "    .dataframe tbody tr th:only-of-type {\n",
       "        vertical-align: middle;\n",
       "    }\n",
       "\n",
       "    .dataframe tbody tr th {\n",
       "        vertical-align: top;\n",
       "    }\n",
       "\n",
       "    .dataframe thead th {\n",
       "        text-align: right;\n",
       "    }\n",
       "</style>\n",
       "<table border=\"1\" class=\"dataframe\">\n",
       "  <thead>\n",
       "    <tr style=\"text-align: right;\">\n",
       "      <th></th>\n",
       "      <th>title</th>\n",
       "      <th>subtitle</th>\n",
       "      <th>message</th>\n",
       "      <th>label</th>\n",
       "    </tr>\n",
       "  </thead>\n",
       "  <tbody>\n",
       "    <tr>\n",
       "      <th>0</th>\n",
       "      <td>Ok leave need ask</td>\n",
       "      <td>Ok way railway</td>\n",
       "      <td>Please tell special stock talking</td>\n",
       "      <td>0</td>\n",
       "    </tr>\n",
       "    <tr>\n",
       "      <th>1</th>\n",
       "      <td>Carlos taking sweet time usual let know patty ...</td>\n",
       "      <td>cant believe attached seeing every day know be...</td>\n",
       "      <td>Ok shall talk</td>\n",
       "      <td>0</td>\n",
       "    </tr>\n",
       "    <tr>\n",
       "      <th>2</th>\n",
       "      <td>Ok ill tell company</td>\n",
       "      <td>see half hour</td>\n",
       "      <td>Ok leave need ask</td>\n",
       "      <td>0</td>\n",
       "    </tr>\n",
       "    <tr>\n",
       "      <th>3</th>\n",
       "      <td>know people still town</td>\n",
       "      <td>food</td>\n",
       "      <td>Come room point iron plan weekend</td>\n",
       "      <td>0</td>\n",
       "    </tr>\n",
       "    <tr>\n",
       "      <th>4</th>\n",
       "      <td>Ok another number</td>\n",
       "      <td>idea</td>\n",
       "      <td>Ok way home hi hi</td>\n",
       "      <td>0</td>\n",
       "    </tr>\n",
       "  </tbody>\n",
       "</table>\n",
       "</div>"
      ],
      "text/plain": [
       "                                               title  \\\n",
       "0                                  Ok leave need ask   \n",
       "1  Carlos taking sweet time usual let know patty ...   \n",
       "2                                Ok ill tell company   \n",
       "3                             know people still town   \n",
       "4                                  Ok another number   \n",
       "\n",
       "                                            subtitle  \\\n",
       "0                                     Ok way railway   \n",
       "1  cant believe attached seeing every day know be...   \n",
       "2                                      see half hour   \n",
       "3                                               food   \n",
       "4                                               idea   \n",
       "\n",
       "                             message  label  \n",
       "0  Please tell special stock talking      0  \n",
       "1                      Ok shall talk      0  \n",
       "2                  Ok leave need ask      0  \n",
       "3  Come room point iron plan weekend      0  \n",
       "4                  Ok way home hi hi      0  "
      ]
     },
     "execution_count": 785,
     "metadata": {},
     "output_type": "execute_result"
    }
   ],
   "source": [
    "no_test_messages['label'] = 0\n",
    "no_test_messages.head()"
   ]
  },
  {
   "cell_type": "code",
   "execution_count": 786,
   "metadata": {},
   "outputs": [],
   "source": [
    "# concatenate dataframes test and not test messages\n",
    "for x in range(50):\n",
    "    df = pd.concat([test_messages, no_test_messages]).sample(frac=1).reset_index(drop=True)"
   ]
  },
  {
   "cell_type": "code",
   "execution_count": 787,
   "metadata": {},
   "outputs": [
    {
     "data": {
      "text/html": [
       "<div>\n",
       "<style scoped>\n",
       "    .dataframe tbody tr th:only-of-type {\n",
       "        vertical-align: middle;\n",
       "    }\n",
       "\n",
       "    .dataframe tbody tr th {\n",
       "        vertical-align: top;\n",
       "    }\n",
       "\n",
       "    .dataframe thead th {\n",
       "        text-align: right;\n",
       "    }\n",
       "</style>\n",
       "<table border=\"1\" class=\"dataframe\">\n",
       "  <thead>\n",
       "    <tr style=\"text-align: right;\">\n",
       "      <th></th>\n",
       "      <th>title</th>\n",
       "      <th>subtitle</th>\n",
       "      <th>message</th>\n",
       "      <th>label</th>\n",
       "    </tr>\n",
       "  </thead>\n",
       "  <tbody>\n",
       "    <tr>\n",
       "      <th>0</th>\n",
       "      <td>ihcVMIkmACWN</td>\n",
       "      <td>oOFBSwbGllW</td>\n",
       "      <td>ZOYKnPVrf</td>\n",
       "      <td>1</td>\n",
       "    </tr>\n",
       "    <tr>\n",
       "      <th>1</th>\n",
       "      <td>ngrRkth</td>\n",
       "      <td>BrBFipUBmTB</td>\n",
       "      <td>EMwNBc</td>\n",
       "      <td>1</td>\n",
       "    </tr>\n",
       "    <tr>\n",
       "      <th>2</th>\n",
       "      <td>test turns stereo love mi phone unknown album</td>\n",
       "      <td>Would smoking help us work difficult time test</td>\n",
       "      <td>Sitting mu waiting everyone get suite take sho...</td>\n",
       "      <td>1</td>\n",
       "    </tr>\n",
       "    <tr>\n",
       "      <th>3</th>\n",
       "      <td>mwWTTVnU</td>\n",
       "      <td>qADrB</td>\n",
       "      <td>BlkMTXowp</td>\n",
       "      <td>1</td>\n",
       "    </tr>\n",
       "    <tr>\n",
       "      <th>4</th>\n",
       "      <td>mIEXxfqp</td>\n",
       "      <td>osOXEnnprH</td>\n",
       "      <td>rtGZF</td>\n",
       "      <td>1</td>\n",
       "    </tr>\n",
       "  </tbody>\n",
       "</table>\n",
       "</div>"
      ],
      "text/plain": [
       "                                           title  \\\n",
       "0                                   ihcVMIkmACWN   \n",
       "1                                        ngrRkth   \n",
       "2  test turns stereo love mi phone unknown album   \n",
       "3                                       mwWTTVnU   \n",
       "4                                       mIEXxfqp   \n",
       "\n",
       "                                         subtitle  \\\n",
       "0                                     oOFBSwbGllW   \n",
       "1                                     BrBFipUBmTB   \n",
       "2  Would smoking help us work difficult time test   \n",
       "3                                           qADrB   \n",
       "4                                      osOXEnnprH   \n",
       "\n",
       "                                             message  label  \n",
       "0                                          ZOYKnPVrf      1  \n",
       "1                                             EMwNBc      1  \n",
       "2  Sitting mu waiting everyone get suite take sho...      1  \n",
       "3                                          BlkMTXowp      1  \n",
       "4                                              rtGZF      1  "
      ]
     },
     "execution_count": 787,
     "metadata": {},
     "output_type": "execute_result"
    }
   ],
   "source": [
    "df.head()"
   ]
  },
  {
   "cell_type": "code",
   "execution_count": 788,
   "metadata": {},
   "outputs": [],
   "source": [
    "demonstrate_df = pd.DataFrame(df)\n",
    "demonstrate_df['title_length'] = demonstrate_df['title'].apply(lambda x: len(x.split()))\n",
    "demonstrate_df['subtitle_length'] = demonstrate_df['subtitle'].apply(lambda x: len(x.split()))\n",
    "demonstrate_df['message_length'] = demonstrate_df['message'].apply(lambda x: len(x.split()))"
   ]
  },
  {
   "cell_type": "code",
   "execution_count": 789,
   "metadata": {},
   "outputs": [
    {
     "data": {
      "text/html": [
       "<div>\n",
       "<style scoped>\n",
       "    .dataframe tbody tr th:only-of-type {\n",
       "        vertical-align: middle;\n",
       "    }\n",
       "\n",
       "    .dataframe tbody tr th {\n",
       "        vertical-align: top;\n",
       "    }\n",
       "\n",
       "    .dataframe thead tr th {\n",
       "        text-align: left;\n",
       "    }\n",
       "\n",
       "    .dataframe thead tr:last-of-type th {\n",
       "        text-align: right;\n",
       "    }\n",
       "</style>\n",
       "<table border=\"1\" class=\"dataframe\">\n",
       "  <thead>\n",
       "    <tr>\n",
       "      <th></th>\n",
       "      <th colspan=\"8\" halign=\"left\">message_length</th>\n",
       "      <th colspan=\"5\" halign=\"left\">subtitle_length</th>\n",
       "      <th colspan=\"8\" halign=\"left\">title_length</th>\n",
       "    </tr>\n",
       "    <tr>\n",
       "      <th></th>\n",
       "      <th>count</th>\n",
       "      <th>mean</th>\n",
       "      <th>std</th>\n",
       "      <th>min</th>\n",
       "      <th>25%</th>\n",
       "      <th>50%</th>\n",
       "      <th>75%</th>\n",
       "      <th>max</th>\n",
       "      <th>count</th>\n",
       "      <th>mean</th>\n",
       "      <th>...</th>\n",
       "      <th>75%</th>\n",
       "      <th>max</th>\n",
       "      <th>count</th>\n",
       "      <th>mean</th>\n",
       "      <th>std</th>\n",
       "      <th>min</th>\n",
       "      <th>25%</th>\n",
       "      <th>50%</th>\n",
       "      <th>75%</th>\n",
       "      <th>max</th>\n",
       "    </tr>\n",
       "    <tr>\n",
       "      <th>label</th>\n",
       "      <th></th>\n",
       "      <th></th>\n",
       "      <th></th>\n",
       "      <th></th>\n",
       "      <th></th>\n",
       "      <th></th>\n",
       "      <th></th>\n",
       "      <th></th>\n",
       "      <th></th>\n",
       "      <th></th>\n",
       "      <th></th>\n",
       "      <th></th>\n",
       "      <th></th>\n",
       "      <th></th>\n",
       "      <th></th>\n",
       "      <th></th>\n",
       "      <th></th>\n",
       "      <th></th>\n",
       "      <th></th>\n",
       "      <th></th>\n",
       "      <th></th>\n",
       "    </tr>\n",
       "  </thead>\n",
       "  <tbody>\n",
       "    <tr>\n",
       "      <th>0</th>\n",
       "      <td>76.0</td>\n",
       "      <td>5.592105</td>\n",
       "      <td>3.339372</td>\n",
       "      <td>1.0</td>\n",
       "      <td>3.0</td>\n",
       "      <td>5.0</td>\n",
       "      <td>7.00</td>\n",
       "      <td>16.0</td>\n",
       "      <td>76.0</td>\n",
       "      <td>5.592105</td>\n",
       "      <td>...</td>\n",
       "      <td>7.00</td>\n",
       "      <td>16.0</td>\n",
       "      <td>76.0</td>\n",
       "      <td>5.592105</td>\n",
       "      <td>3.339372</td>\n",
       "      <td>1.0</td>\n",
       "      <td>3.0</td>\n",
       "      <td>5.0</td>\n",
       "      <td>7.00</td>\n",
       "      <td>16.0</td>\n",
       "    </tr>\n",
       "    <tr>\n",
       "      <th>1</th>\n",
       "      <td>304.0</td>\n",
       "      <td>2.384868</td>\n",
       "      <td>2.906673</td>\n",
       "      <td>1.0</td>\n",
       "      <td>1.0</td>\n",
       "      <td>1.0</td>\n",
       "      <td>1.25</td>\n",
       "      <td>16.0</td>\n",
       "      <td>304.0</td>\n",
       "      <td>2.391447</td>\n",
       "      <td>...</td>\n",
       "      <td>1.25</td>\n",
       "      <td>17.0</td>\n",
       "      <td>304.0</td>\n",
       "      <td>2.381579</td>\n",
       "      <td>2.922394</td>\n",
       "      <td>1.0</td>\n",
       "      <td>1.0</td>\n",
       "      <td>1.0</td>\n",
       "      <td>1.25</td>\n",
       "      <td>17.0</td>\n",
       "    </tr>\n",
       "  </tbody>\n",
       "</table>\n",
       "<p>2 rows × 24 columns</p>\n",
       "</div>"
      ],
      "text/plain": [
       "      message_length                                                 \\\n",
       "               count      mean       std  min  25%  50%   75%   max   \n",
       "label                                                                 \n",
       "0               76.0  5.592105  3.339372  1.0  3.0  5.0  7.00  16.0   \n",
       "1              304.0  2.384868  2.906673  1.0  1.0  1.0  1.25  16.0   \n",
       "\n",
       "      subtitle_length            ...              title_length            \\\n",
       "                count      mean  ...    75%   max        count      mean   \n",
       "label                            ...                                       \n",
       "0                76.0  5.592105  ...   7.00  16.0         76.0  5.592105   \n",
       "1               304.0  2.391447  ...   1.25  17.0        304.0  2.381579   \n",
       "\n",
       "                                            \n",
       "            std  min  25%  50%   75%   max  \n",
       "label                                       \n",
       "0      3.339372  1.0  3.0  5.0  7.00  16.0  \n",
       "1      2.922394  1.0  1.0  1.0  1.25  17.0  \n",
       "\n",
       "[2 rows x 24 columns]"
      ]
     },
     "execution_count": 789,
     "metadata": {},
     "output_type": "execute_result"
    }
   ],
   "source": [
    "demonstrate_df.groupby('label').describe()"
   ]
  },
  {
   "cell_type": "code",
   "execution_count": 790,
   "metadata": {},
   "outputs": [
    {
     "data": {
      "text/plain": [
       "163    17\n",
       "34     16\n",
       "295    15\n",
       "110    15\n",
       "210    15\n",
       "Name: title_length, dtype: int64"
      ]
     },
     "execution_count": 790,
     "metadata": {},
     "output_type": "execute_result"
    }
   ],
   "source": [
    "demonstrate_df['title_length'].sort_values(ascending=False)[:5]"
   ]
  },
  {
   "cell_type": "code",
   "execution_count": 791,
   "metadata": {},
   "outputs": [
    {
     "data": {
      "text/plain": [
       "<matplotlib.axes._subplots.AxesSubplot at 0x132f01358>"
      ]
     },
     "execution_count": 791,
     "metadata": {},
     "output_type": "execute_result"
    },
    {
     "data": {
      "image/png": "[encoded data removed]",
      "text/plain": [
       "<Figure size 432x288 with 1 Axes>"
      ]
     },
     "metadata": {
      "needs_background": "light"
     },
     "output_type": "display_data"
    }
   ],
   "source": [
    "demonstrate_df['title_length'].plot(bins=50,kind='hist')"
   ]
  },
  {
   "cell_type": "code",
   "execution_count": 792,
   "metadata": {},
   "outputs": [
    {
     "data": {
      "text/plain": [
       "<matplotlib.axes._subplots.AxesSubplot at 0x12ed97da0>"
      ]
     },
     "execution_count": 792,
     "metadata": {},
     "output_type": "execute_result"
    },
    {
     "data": {
      "image/png": "[encoded data removed]",
      "text/plain": [
       "<Figure size 432x288 with 1 Axes>"
      ]
     },
     "metadata": {
      "needs_background": "light"
     },
     "output_type": "display_data"
    }
   ],
   "source": [
    "demonstrate_df['subtitle_length'].plot(bins=50,kind='hist')"
   ]
  },
  {
   "cell_type": "code",
   "execution_count": 793,
   "metadata": {},
   "outputs": [
    {
     "data": {
      "text/plain": [
       "<matplotlib.axes._subplots.AxesSubplot at 0x12eed9710>"
      ]
     },
     "execution_count": 793,
     "metadata": {},
     "output_type": "execute_result"
    },
    {
     "data": {
      "image/png": "[encoded data removed]",
      "text/plain": [
       "<Figure size 432x288 with 1 Axes>"
      ]
     },
     "metadata": {
      "needs_background": "light"
     },
     "output_type": "display_data"
    }
   ],
   "source": [
    "demonstrate_df['message_length'].plot(bins=50,kind='hist')"
   ]
  },
  {
   "cell_type": "code",
   "execution_count": 794,
   "metadata": {},
   "outputs": [],
   "source": [
    "# Cutoff was based on the graphs above \n",
    "cutoff = 10\n",
    "criteria1 = demonstrate_df['message_length'] < cutoff\n",
    "criteria2 = demonstrate_df['subtitle_length'] < cutoff\n",
    "criteria3 = demonstrate_df['title_length'] < cutoff\n",
    "df = demonstrate_df[criteria1 & criteria2 & criteria3]"
   ]
  },
  {
   "cell_type": "code",
   "execution_count": 795,
   "metadata": {},
   "outputs": [],
   "source": [
    "def create_cvec_df(df, column, cvec):\n",
    "    X = df[column]\n",
    "    y = df['label']\n",
    "    X_train, X_test, y_train, y_test = train_test_split(X, y, test_size=0.30, random_state=45)\n",
    "    cvec.fit(X_train)\n",
    "    train = pd.DataFrame(cvec.transform(X_train).todense())\n",
    "    test = pd.DataFrame(cvec.transform(X_test).todense())\n",
    "    return {'train':train, 'test':test, 'ytrain':y_train, 'ytest': y_test}, cvec"
   ]
  },
  {
   "cell_type": "code",
   "execution_count": 796,
   "metadata": {},
   "outputs": [
    {
     "data": {
      "text/html": [
       "<div>\n",
       "<style scoped>\n",
       "    .dataframe tbody tr th:only-of-type {\n",
       "        vertical-align: middle;\n",
       "    }\n",
       "\n",
       "    .dataframe tbody tr th {\n",
       "        vertical-align: top;\n",
       "    }\n",
       "\n",
       "    .dataframe thead th {\n",
       "        text-align: right;\n",
       "    }\n",
       "</style>\n",
       "<table border=\"1\" class=\"dataframe\">\n",
       "  <thead>\n",
       "    <tr style=\"text-align: right;\">\n",
       "      <th></th>\n",
       "      <th>title</th>\n",
       "      <th>subtitle</th>\n",
       "      <th>message</th>\n",
       "      <th>label</th>\n",
       "    </tr>\n",
       "  </thead>\n",
       "  <tbody>\n",
       "    <tr>\n",
       "      <th>0</th>\n",
       "      <td>ihcVMIkmACWN</td>\n",
       "      <td>oOFBSwbGllW</td>\n",
       "      <td>ZOYKnPVrf</td>\n",
       "      <td>1</td>\n",
       "    </tr>\n",
       "    <tr>\n",
       "      <th>1</th>\n",
       "      <td>ngrRkth</td>\n",
       "      <td>BrBFipUBmTB</td>\n",
       "      <td>EMwNBc</td>\n",
       "      <td>1</td>\n",
       "    </tr>\n",
       "    <tr>\n",
       "      <th>2</th>\n",
       "      <td>test turns stereo love mi phone unknown album</td>\n",
       "      <td>Would smoking help us work difficult time test</td>\n",
       "      <td>Sitting mu waiting everyone get suite take sho...</td>\n",
       "      <td>1</td>\n",
       "    </tr>\n",
       "    <tr>\n",
       "      <th>3</th>\n",
       "      <td>mwWTTVnU</td>\n",
       "      <td>qADrB</td>\n",
       "      <td>BlkMTXowp</td>\n",
       "      <td>1</td>\n",
       "    </tr>\n",
       "    <tr>\n",
       "      <th>4</th>\n",
       "      <td>mIEXxfqp</td>\n",
       "      <td>osOXEnnprH</td>\n",
       "      <td>rtGZF</td>\n",
       "      <td>1</td>\n",
       "    </tr>\n",
       "    <tr>\n",
       "      <th>5</th>\n",
       "      <td>yGavxQHsRO</td>\n",
       "      <td>NETfQuRBSu</td>\n",
       "      <td>HQsefQbrGj</td>\n",
       "      <td>1</td>\n",
       "    </tr>\n",
       "    <tr>\n",
       "      <th>6</th>\n",
       "      <td>da run activate full version da</td>\n",
       "      <td>Ok need tell anything going sleep good night</td>\n",
       "      <td>want kiss feel next</td>\n",
       "      <td>0</td>\n",
       "    </tr>\n",
       "    <tr>\n",
       "      <th>7</th>\n",
       "      <td>ill little closer like bus stop street</td>\n",
       "      <td>Ok prob</td>\n",
       "      <td>Ok ill tell company</td>\n",
       "      <td>0</td>\n",
       "    </tr>\n",
       "    <tr>\n",
       "      <th>8</th>\n",
       "      <td>IrrVvxCldU</td>\n",
       "      <td>WHImKqEUBT</td>\n",
       "      <td>PrsCJR</td>\n",
       "      <td>1</td>\n",
       "    </tr>\n",
       "    <tr>\n",
       "      <th>9</th>\n",
       "      <td>TLlmAZ</td>\n",
       "      <td>OnrcM</td>\n",
       "      <td>ZWuMcJYi</td>\n",
       "      <td>1</td>\n",
       "    </tr>\n",
       "    <tr>\n",
       "      <th>10</th>\n",
       "      <td>LIHHyhzW</td>\n",
       "      <td>jtIdgJmxteB</td>\n",
       "      <td>bBJcdht</td>\n",
       "      <td>1</td>\n",
       "    </tr>\n",
       "    <tr>\n",
       "      <th>11</th>\n",
       "      <td>yzHYyCqGihd</td>\n",
       "      <td>sXqwuQIcm</td>\n",
       "      <td>EpIpPauKJMS</td>\n",
       "      <td>1</td>\n",
       "    </tr>\n",
       "    <tr>\n",
       "      <th>12</th>\n",
       "      <td>WDPWOTHK</td>\n",
       "      <td>XnRvVh</td>\n",
       "      <td>csawmZgg</td>\n",
       "      <td>1</td>\n",
       "    </tr>\n",
       "    <tr>\n",
       "      <th>13</th>\n",
       "      <td>XpmASisI</td>\n",
       "      <td>FAJsouzls</td>\n",
       "      <td>WPJCvbsQ</td>\n",
       "      <td>1</td>\n",
       "    </tr>\n",
       "    <tr>\n",
       "      <th>14</th>\n",
       "      <td>BSNHs</td>\n",
       "      <td>FlvrES</td>\n",
       "      <td>UPzLoaa</td>\n",
       "      <td>1</td>\n",
       "    </tr>\n",
       "    <tr>\n",
       "      <th>15</th>\n",
       "      <td>Ok another number test</td>\n",
       "      <td>want kiss feel next test</td>\n",
       "      <td>Ok anyway need change said test</td>\n",
       "      <td>1</td>\n",
       "    </tr>\n",
       "    <tr>\n",
       "      <th>16</th>\n",
       "      <td>know people hit fuck yes</td>\n",
       "      <td>couldnt say dying man feel sad go wanted know ...</td>\n",
       "      <td>way ur home</td>\n",
       "      <td>0</td>\n",
       "    </tr>\n",
       "    <tr>\n",
       "      <th>17</th>\n",
       "      <td>qgKAZhhfUja</td>\n",
       "      <td>OvTEFnIYxb</td>\n",
       "      <td>cKQagKjhWbI</td>\n",
       "      <td>1</td>\n",
       "    </tr>\n",
       "    <tr>\n",
       "      <th>18</th>\n",
       "      <td>monthly amount terrible pay anything till 6mon...</td>\n",
       "      <td>cant believe attached seeing every day know be...</td>\n",
       "      <td>take like noon test</td>\n",
       "      <td>1</td>\n",
       "    </tr>\n",
       "    <tr>\n",
       "      <th>19</th>\n",
       "      <td>thought king hill thing</td>\n",
       "      <td>come ur home</td>\n",
       "      <td>turns stereo love mi phone unknown album</td>\n",
       "      <td>0</td>\n",
       "    </tr>\n",
       "  </tbody>\n",
       "</table>\n",
       "</div>"
      ],
      "text/plain": [
       "                                                title  \\\n",
       "0                                        ihcVMIkmACWN   \n",
       "1                                             ngrRkth   \n",
       "2       test turns stereo love mi phone unknown album   \n",
       "3                                            mwWTTVnU   \n",
       "4                                            mIEXxfqp   \n",
       "5                                          yGavxQHsRO   \n",
       "6                     da run activate full version da   \n",
       "7              ill little closer like bus stop street   \n",
       "8                                          IrrVvxCldU   \n",
       "9                                              TLlmAZ   \n",
       "10                                           LIHHyhzW   \n",
       "11                                        yzHYyCqGihd   \n",
       "12                                           WDPWOTHK   \n",
       "13                                           XpmASisI   \n",
       "14                                              BSNHs   \n",
       "15                             Ok another number test   \n",
       "16                           know people hit fuck yes   \n",
       "17                                        qgKAZhhfUja   \n",
       "18  monthly amount terrible pay anything till 6mon...   \n",
       "19                            thought king hill thing   \n",
       "\n",
       "                                             subtitle  \\\n",
       "0                                         oOFBSwbGllW   \n",
       "1                                         BrBFipUBmTB   \n",
       "2      Would smoking help us work difficult time test   \n",
       "3                                               qADrB   \n",
       "4                                          osOXEnnprH   \n",
       "5                                          NETfQuRBSu   \n",
       "6        Ok need tell anything going sleep good night   \n",
       "7                                             Ok prob   \n",
       "8                                          WHImKqEUBT   \n",
       "9                                               OnrcM   \n",
       "10                                        jtIdgJmxteB   \n",
       "11                                          sXqwuQIcm   \n",
       "12                                             XnRvVh   \n",
       "13                                          FAJsouzls   \n",
       "14                                             FlvrES   \n",
       "15                           want kiss feel next test   \n",
       "16  couldnt say dying man feel sad go wanted know ...   \n",
       "17                                         OvTEFnIYxb   \n",
       "18  cant believe attached seeing every day know be...   \n",
       "19                                       come ur home   \n",
       "\n",
       "                                              message  label  \n",
       "0                                           ZOYKnPVrf      1  \n",
       "1                                              EMwNBc      1  \n",
       "2   Sitting mu waiting everyone get suite take sho...      1  \n",
       "3                                           BlkMTXowp      1  \n",
       "4                                               rtGZF      1  \n",
       "5                                          HQsefQbrGj      1  \n",
       "6                                 want kiss feel next      0  \n",
       "7                                 Ok ill tell company      0  \n",
       "8                                              PrsCJR      1  \n",
       "9                                            ZWuMcJYi      1  \n",
       "10                                            bBJcdht      1  \n",
       "11                                        EpIpPauKJMS      1  \n",
       "12                                           csawmZgg      1  \n",
       "13                                           WPJCvbsQ      1  \n",
       "14                                            UPzLoaa      1  \n",
       "15                    Ok anyway need change said test      1  \n",
       "16                                        way ur home      0  \n",
       "17                                        cKQagKjhWbI      1  \n",
       "18                                take like noon test      1  \n",
       "19           turns stereo love mi phone unknown album      0  "
      ]
     },
     "execution_count": 796,
     "metadata": {},
     "output_type": "execute_result"
    }
   ],
   "source": [
    "cvec = CountVectorizer(analyzer=text_process)\n",
    "df = demonstrate_df.drop(['message_length', 'subtitle_length', 'title_length'], axis=1)\n",
    "title_df, cvec = create_cvec_df(df, 'title', cvec)\n",
    "subtitle_df, cvec = create_cvec_df(df, 'subtitle',cvec)\n",
    "message_df,cvec = create_cvec_df(df, 'message',cvec)\n",
    "df.head(20)"
   ]
  },
  {
   "cell_type": "code",
   "execution_count": 797,
   "metadata": {},
   "outputs": [],
   "source": [
    "train = pd.concat([title_df['train'],subtitle_df['train'],message_df['train']], axis=1)\n",
    "test = pd.concat([title_df['test'],subtitle_df['test'],message_df['test']], axis=1)"
   ]
  },
  {
   "cell_type": "code",
   "execution_count": 798,
   "metadata": {},
   "outputs": [
    {
     "name": "stdout",
     "output_type": "stream",
     "text": [
      "101    0\n",
      "280    1\n",
      "180    1\n",
      "13     1\n",
      "161    1\n",
      "Name: label, dtype: int64\n",
      "101    0\n",
      "280    1\n",
      "180    1\n",
      "13     1\n",
      "161    1\n",
      "Name: label, dtype: int64\n",
      "101    0\n",
      "280    1\n",
      "180    1\n",
      "13     1\n",
      "161    1\n",
      "Name: label, dtype: int64\n"
     ]
    }
   ],
   "source": [
    "# showcasing ytrain labels\n",
    "print(title_df['ytrain'].head())\n",
    "print(subtitle_df['ytrain'].head())\n",
    "print(message_df['ytrain'].head())"
   ]
  },
  {
   "cell_type": "code",
   "execution_count": 799,
   "metadata": {},
   "outputs": [],
   "source": [
    "from sklearn.naive_bayes import MultinomialNB\n",
    "from sklearn.metrics import classification_report\n",
    "from sklearn.metrics import confusion_matrix\n",
    "\n",
    "def show_results(clf, data, train, test):\n",
    "    print(\"Classifier: {}\\n\".format(clf.fit(train , data['ytrain'])))\n",
    "    predictions = clf.predict(test)\n",
    "    show_wrong_classifictions(predictions, 20)\n",
    "    print(classification_report(data['ytest'], predictions))\n",
    "    print(confusion_matrix(data['ytest'], predictions))\n",
    "    print(\"\\n\")\n",
    "    print(\"Average K-fold Accuracy score: {}\".format(np.mean(cross_val_score(clf, train, data['ytrain'] , cv=5))))\n",
    "    return clf\n",
    "    \n",
    "def show_wrong_classifictions(predictions, num_predictions):\n",
    "    for index, prediction in enumerate(predictions[:num_predictions]):\n",
    "        if prediction != message_df['ytest'].iloc[index]:\n",
    "            print(\"Title: {}\".format(demonstrate_df.loc[index]['title']))\n",
    "            print(\"Subtitle: {}\".format(demonstrate_df.loc[index]['subtitle']))\n",
    "            print(\"Message: {}\".format(demonstrate_df.loc[index]['message']))\n",
    "            print(\"Classifier's Prediction: {}\".format(prediction))\n",
    "            print(\"Actual Prediction: {}\".format(message_df['ytest'].iloc[index]))\n",
    "            print(\"\\n\")\n",
    "            \n",
    "def show_sample_classifications(clf, cvec):\n",
    "    title = [\"W\",\"Hello\", \"test Synergy\", \"Footwear Sale\", \"test message\"]\n",
    "    subtitle = [\"W\",\"Hello\", \"Synergy\", \"24 hour sale\", \"message\"]\n",
    "    message = [\"W\",\"Hello\", \"test Synergy\", \"Buy one get one free\", \"test message\"]\n",
    "#     title = [\"W\",\"Hello\"]\n",
    "#     subtitle = [\"W\",\"Hello\"]\n",
    "#     message = [\"W\",\"Hello\"]\n",
    "    inputs = convert_fields(title, subtitle, message, cvec)\n",
    "    predictions = clf.predict(inputs)\n",
    "    for i, prediction in enumerate(predictions):\n",
    "        if prediction == 1:\n",
    "            print(\"Title: {} .. Subtitle: {} .. Message: {} ----> Test message\".format(title[i], subtitle[i], message[i]))\n",
    "        else:\n",
    "            print(\"Title: {} .. Subtitle: {} .. Message: {} ----> Not a test message\".format(title[i], subtitle[i], message[i]))\n",
    "\n",
    "            \n",
    "def convert_fields(title, subtitle, message, cvec):\n",
    "    title_cvec = pd.DataFrame(cvec.transform(title).todense())\n",
    "    subtitle_cvec = pd.DataFrame(cvec.transform(subtitle).todense())\n",
    "    message_cvec = pd.DataFrame(cvec.transform(message).todense())\n",
    "    final_df = pd.concat([title_cvec, subtitle_cvec, message_cvec], axis=1)\n",
    "    return final_df"
   ]
  },
  {
   "cell_type": "code",
   "execution_count": 800,
   "metadata": {},
   "outputs": [
    {
     "name": "stdout",
     "output_type": "stream",
     "text": [
      "Classifier: MultinomialNB(alpha=1.0, class_prior=None, fit_prior=True)\n",
      "\n",
      "Title: ill little closer like bus stop street\n",
      "Subtitle: Ok prob\n",
      "Message: Ok ill tell company\n",
      "Classifier's Prediction: 0\n",
      "Actual Prediction: 1\n",
      "\n",
      "\n",
      "Title: TLlmAZ\n",
      "Subtitle: OnrcM\n",
      "Message: ZWuMcJYi\n",
      "Classifier's Prediction: 0\n",
      "Actual Prediction: 1\n",
      "\n",
      "\n",
      "Title: monthly amount terrible pay anything till 6months finishing school\n",
      "Subtitle: cant believe attached seeing every day know best get babe go teach class midnight test\n",
      "Message: take like noon test\n",
      "Classifier's Prediction: 0\n",
      "Actual Prediction: 1\n",
      "\n",
      "\n",
      "              precision    recall  f1-score   support\n",
      "\n",
      "           0       0.60      1.00      0.75        21\n",
      "           1       1.00      0.85      0.92        93\n",
      "\n",
      "   micro avg       0.88      0.88      0.88       114\n",
      "   macro avg       0.80      0.92      0.83       114\n",
      "weighted avg       0.93      0.88      0.89       114\n",
      "\n",
      "[[21  0]\n",
      " [14 79]]\n",
      "\n",
      "\n",
      "Average K-fold Accuracy score: 0.7668763102725367\n",
      "Title: W .. Subtitle: W .. Message: W ----> Test message\n",
      "Title: Hello .. Subtitle: Hello .. Message: Hello ----> Test message\n",
      "Title: test Synergy .. Subtitle: Synergy .. Message: test Synergy ----> Test message\n",
      "Title: Footwear Sale .. Subtitle: 24 hour sale .. Message: Buy one get one free ----> Not a test message\n",
      "Title: test message .. Subtitle: message .. Message: test message ----> Not a test message\n"
     ]
    }
   ],
   "source": [
    "classifier = MultinomialNB()\n",
    "show_results(classifier, message_df, train, test)\n",
    "show_sample_classifications(classifier, cvec)"
   ]
  },
  {
   "cell_type": "code",
   "execution_count": 801,
   "metadata": {},
   "outputs": [
    {
     "name": "stdout",
     "output_type": "stream",
     "text": [
      "Classifier: SVC(C=1.0, cache_size=200, class_weight=None, coef0=0.0,\n",
      "  decision_function_shape='ovr', degree=3, gamma='auto_deprecated',\n",
      "  kernel='rbf', max_iter=-1, probability=False, random_state=None,\n",
      "  shrinking=True, tol=0.001, verbose=False)\n",
      "\n",
      "Title: know people hit fuck yes\n",
      "Subtitle: couldnt say dying man feel sad go wanted know would probably gone late night\n",
      "Message: way ur home\n",
      "Classifier's Prediction: 1\n",
      "Actual Prediction: 0\n",
      "\n",
      "\n",
      "              precision    recall  f1-score   support\n",
      "\n",
      "           0       1.00      0.62      0.76        21\n",
      "           1       0.92      1.00      0.96        93\n",
      "\n",
      "   micro avg       0.93      0.93      0.93       114\n",
      "   macro avg       0.96      0.81      0.86       114\n",
      "weighted avg       0.94      0.93      0.92       114\n",
      "\n",
      "[[13  8]\n",
      " [ 0 93]]\n",
      "\n",
      "\n",
      "Average K-fold Accuracy score: 0.8757512229210344\n",
      "Title: W .. Subtitle: W .. Message: W ----> Test message\n",
      "Title: Hello .. Subtitle: Hello .. Message: Hello ----> Test message\n",
      "Title: test Synergy .. Subtitle: Synergy .. Message: test Synergy ----> Test message\n",
      "Title: Footwear Sale .. Subtitle: 24 hour sale .. Message: Buy one get one free ----> Not a test message\n",
      "Title: test message .. Subtitle: message .. Message: test message ----> Test message\n"
     ]
    },
    {
     "name": "stderr",
     "output_type": "stream",
     "text": [
      "/Users/darrylbalderas/PycharmProjects/test-message-detector/venv/lib/python3.6/site-packages/sklearn/svm/base.py:196: FutureWarning: The default value of gamma will change from 'auto' to 'scale' in version 0.22 to account better for unscaled features. Set gamma explicitly to 'auto' or 'scale' to avoid this warning.\n",
      "  \"avoid this warning.\", FutureWarning)\n",
      "/Users/darrylbalderas/PycharmProjects/test-message-detector/venv/lib/python3.6/site-packages/sklearn/svm/base.py:196: FutureWarning: The default value of gamma will change from 'auto' to 'scale' in version 0.22 to account better for unscaled features. Set gamma explicitly to 'auto' or 'scale' to avoid this warning.\n",
      "  \"avoid this warning.\", FutureWarning)\n",
      "/Users/darrylbalderas/PycharmProjects/test-message-detector/venv/lib/python3.6/site-packages/sklearn/svm/base.py:196: FutureWarning: The default value of gamma will change from 'auto' to 'scale' in version 0.22 to account better for unscaled features. Set gamma explicitly to 'auto' or 'scale' to avoid this warning.\n",
      "  \"avoid this warning.\", FutureWarning)\n",
      "/Users/darrylbalderas/PycharmProjects/test-message-detector/venv/lib/python3.6/site-packages/sklearn/svm/base.py:196: FutureWarning: The default value of gamma will change from 'auto' to 'scale' in version 0.22 to account better for unscaled features. Set gamma explicitly to 'auto' or 'scale' to avoid this warning.\n",
      "  \"avoid this warning.\", FutureWarning)\n",
      "/Users/darrylbalderas/PycharmProjects/test-message-detector/venv/lib/python3.6/site-packages/sklearn/svm/base.py:196: FutureWarning: The default value of gamma will change from 'auto' to 'scale' in version 0.22 to account better for unscaled features. Set gamma explicitly to 'auto' or 'scale' to avoid this warning.\n",
      "  \"avoid this warning.\", FutureWarning)\n",
      "/Users/darrylbalderas/PycharmProjects/test-message-detector/venv/lib/python3.6/site-packages/sklearn/svm/base.py:196: FutureWarning: The default value of gamma will change from 'auto' to 'scale' in version 0.22 to account better for unscaled features. Set gamma explicitly to 'auto' or 'scale' to avoid this warning.\n",
      "  \"avoid this warning.\", FutureWarning)\n"
     ]
    }
   ],
   "source": [
    "from sklearn.svm import SVC\n",
    "svm_classifier = SVC()\n",
    "show_results(svm_classifier, message_df, train, test)\n",
    "show_sample_classifications(svm_classifier, cvec)"
   ]
  }
 ],
 "metadata": {
  "kernelspec": {
   "display_name": "Python 3",
   "language": "python",
   "name": "python3"
  },
  "language_info": {
   "codemirror_mode": {
    "name": "ipython",
    "version": 3
   },
   "file_extension": ".py",
   "mimetype": "text/x-python",
   "name": "python",
   "nbconvert_exporter": "python",
   "pygments_lexer": "ipython3",
   "version": "3.6.5"
  }
 },
 "nbformat": 4,
 "nbformat_minor": 2
}
