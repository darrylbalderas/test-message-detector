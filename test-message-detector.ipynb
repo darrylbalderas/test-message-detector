{
 "cells": [
  {
   "cell_type": "code",
   "execution_count": 1,
   "metadata": {},
   "outputs": [
    {
     "name": "stderr",
     "output_type": "stream",
     "text": [
      "[nltk_data] Downloading package words to\n",
      "[nltk_data]     /Users/darrylbalderas/nltk_data...\n",
      "[nltk_data]   Package words is already up-to-date!\n"
     ]
    },
    {
     "data": {
      "text/plain": [
       "True"
      ]
     },
     "execution_count": 1,
     "metadata": {},
     "output_type": "execute_result"
    }
   ],
   "source": [
    "'''\n",
    "Prediction 1:\n",
    "scenario_1: The word test appears in at least in one field\n",
    "scenario_2: All fields are at most the same\n",
    "scenario_3: One word field\n",
    "scenario_4: Random characters in at least in one field\n",
    "'''\n",
    "import pandas as pd\n",
    "import numpy as np\n",
    "import nltk\n",
    "from nltk.corpus import words\n",
    "import random\n",
    "import matplotlib\n",
    "import matplotlib.pyplot as plt\n",
    "nltk.download('words')"
   ]
  },
  {
   "cell_type": "code",
   "execution_count": 2,
   "metadata": {},
   "outputs": [],
   "source": [
    "# import spam collection messages\n",
    "column_names = ['label', 'title']\n",
    "message_data = pd.read_table(\"SMSSpamCollection\", names=column_names)"
   ]
  },
  {
   "cell_type": "code",
   "execution_count": 3,
   "metadata": {},
   "outputs": [],
   "source": [
    "# Remove rows that contain spam label and reset indexes\n",
    "message_data = message_data.drop(message_data[message_data.label == \"spam\"].index).reset_index(drop=True)"
   ]
  },
  {
   "cell_type": "code",
   "execution_count": 4,
   "metadata": {},
   "outputs": [],
   "source": [
    "# Drop label column\n",
    "message_data = message_data.drop('label', axis=1)"
   ]
  },
  {
   "cell_type": "code",
   "execution_count": 5,
   "metadata": {},
   "outputs": [
    {
     "data": {
      "text/html": [
       "<div>\n",
       "<style scoped>\n",
       "    .dataframe tbody tr th:only-of-type {\n",
       "        vertical-align: middle;\n",
       "    }\n",
       "\n",
       "    .dataframe tbody tr th {\n",
       "        vertical-align: top;\n",
       "    }\n",
       "\n",
       "    .dataframe thead th {\n",
       "        text-align: right;\n",
       "    }\n",
       "</style>\n",
       "<table border=\"1\" class=\"dataframe\">\n",
       "  <thead>\n",
       "    <tr style=\"text-align: right;\">\n",
       "      <th></th>\n",
       "      <th>title</th>\n",
       "    </tr>\n",
       "  </thead>\n",
       "  <tbody>\n",
       "    <tr>\n",
       "      <th>0</th>\n",
       "      <td>Go until jurong point, crazy.. Available only ...</td>\n",
       "    </tr>\n",
       "    <tr>\n",
       "      <th>1</th>\n",
       "      <td>Ok lar... Joking wif u oni...</td>\n",
       "    </tr>\n",
       "    <tr>\n",
       "      <th>2</th>\n",
       "      <td>U dun say so early hor... U c already then say...</td>\n",
       "    </tr>\n",
       "    <tr>\n",
       "      <th>3</th>\n",
       "      <td>Nah I don't think he goes to usf, he lives aro...</td>\n",
       "    </tr>\n",
       "    <tr>\n",
       "      <th>4</th>\n",
       "      <td>Even my brother is not like to speak with me. ...</td>\n",
       "    </tr>\n",
       "    <tr>\n",
       "      <th>5</th>\n",
       "      <td>As per your request 'Melle Melle (Oru Minnamin...</td>\n",
       "    </tr>\n",
       "    <tr>\n",
       "      <th>6</th>\n",
       "      <td>I'm gonna be home soon and i don't want to tal...</td>\n",
       "    </tr>\n",
       "    <tr>\n",
       "      <th>7</th>\n",
       "      <td>I've been searching for the right words to tha...</td>\n",
       "    </tr>\n",
       "    <tr>\n",
       "      <th>8</th>\n",
       "      <td>I HAVE A DATE ON SUNDAY WITH WILL!!</td>\n",
       "    </tr>\n",
       "    <tr>\n",
       "      <th>9</th>\n",
       "      <td>Oh k...i'm watching here:)</td>\n",
       "    </tr>\n",
       "  </tbody>\n",
       "</table>\n",
       "</div>"
      ],
      "text/plain": [
       "                                               title\n",
       "0  Go until jurong point, crazy.. Available only ...\n",
       "1                      Ok lar... Joking wif u oni...\n",
       "2  U dun say so early hor... U c already then say...\n",
       "3  Nah I don't think he goes to usf, he lives aro...\n",
       "4  Even my brother is not like to speak with me. ...\n",
       "5  As per your request 'Melle Melle (Oru Minnamin...\n",
       "6  I'm gonna be home soon and i don't want to tal...\n",
       "7  I've been searching for the right words to tha...\n",
       "8                I HAVE A DATE ON SUNDAY WITH WILL!!\n",
       "9                         Oh k...i'm watching here:)"
      ]
     },
     "execution_count": 5,
     "metadata": {},
     "output_type": "execute_result"
    }
   ],
   "source": [
    "message_data.head(10)"
   ]
  },
  {
   "cell_type": "code",
   "execution_count": 6,
   "metadata": {},
   "outputs": [],
   "source": [
    "english_words = dict.fromkeys(words.words(), None)"
   ]
  },
  {
   "cell_type": "code",
   "execution_count": 7,
   "metadata": {},
   "outputs": [],
   "source": [
    "def is_word(word):\n",
    "    try:\n",
    "        x = english_words[word]\n",
    "        return True\n",
    "    except:\n",
    "        return False\n",
    "\n",
    "\n",
    "def get_false_word_indexes(data, percentage):\n",
    "    indexes = []\n",
    "    for index, message in enumerate(data['title']):\n",
    "        false_word_count = 0\n",
    "        for word in message.split():\n",
    "            if not is_word(word):\n",
    "                false_word_count += 1\n",
    "                if false_word_count/len(message) > false_word_percentage:\n",
    "                    indexes.append(index)\n",
    "                    break\n",
    "    return indexes\n",
    "\n",
    "def remove_single_words(data):\n",
    "    indexes = []\n",
    "    for index, message in enumerate(data['title']):\n",
    "        if len(message.split()) > 1:\n",
    "            continue\n",
    "        indexes.append(index)\n",
    "    return indexes\n",
    "    "
   ]
  },
  {
   "cell_type": "code",
   "execution_count": 8,
   "metadata": {},
   "outputs": [
    {
     "name": "stdout",
     "output_type": "stream",
     "text": [
      "4741 number of indexes will be deleted\n",
      "CPU times: user 18.7 ms, sys: 877 µs, total: 19.6 ms\n",
      "Wall time: 19.2 ms\n"
     ]
    }
   ],
   "source": [
    "%%time\n",
    "false_word_percentage = 0.02\n",
    "indexes = get_false_word_indexes(message_data, false_word_percentage)\n",
    "print('{} number of indexes will be deleted'.format(len(indexes)))"
   ]
  },
  {
   "cell_type": "code",
   "execution_count": 9,
   "metadata": {},
   "outputs": [
    {
     "name": "stdout",
     "output_type": "stream",
     "text": [
      "Data size went from 4825 to 84\n",
      "CPU times: user 3.08 ms, sys: 999 µs, total: 4.08 ms\n",
      "Wall time: 3.12 ms\n"
     ]
    }
   ],
   "source": [
    "%%time\n",
    "original_size = message_data.shape[0]\n",
    "real_messages = message_data.drop(message_data.index[indexes]).reset_index(drop=True)\n",
    "print('Data size went from {} to {}'.format(original_size, real_messages.shape[0]))"
   ]
  },
  {
   "cell_type": "code",
   "execution_count": 10,
   "metadata": {},
   "outputs": [
    {
     "data": {
      "text/html": [
       "<div>\n",
       "<style scoped>\n",
       "    .dataframe tbody tr th:only-of-type {\n",
       "        vertical-align: middle;\n",
       "    }\n",
       "\n",
       "    .dataframe tbody tr th {\n",
       "        vertical-align: top;\n",
       "    }\n",
       "\n",
       "    .dataframe thead th {\n",
       "        text-align: right;\n",
       "    }\n",
       "</style>\n",
       "<table border=\"1\" class=\"dataframe\">\n",
       "  <thead>\n",
       "    <tr style=\"text-align: right;\">\n",
       "      <th></th>\n",
       "      <th>title</th>\n",
       "    </tr>\n",
       "  </thead>\n",
       "  <tbody>\n",
       "    <tr>\n",
       "      <th>0</th>\n",
       "      <td>I see the letter B on my car</td>\n",
       "    </tr>\n",
       "    <tr>\n",
       "      <th>1</th>\n",
       "      <td>Ok i am on the way to home hi hi</td>\n",
       "    </tr>\n",
       "    <tr>\n",
       "      <th>2</th>\n",
       "      <td>I see a cup of coffee animation</td>\n",
       "    </tr>\n",
       "    <tr>\n",
       "      <th>3</th>\n",
       "      <td>Keep yourself safe for me because I need you a...</td>\n",
       "    </tr>\n",
       "    <tr>\n",
       "      <th>4</th>\n",
       "      <td>Or ill be a little closer like at the bus stop...</td>\n",
       "    </tr>\n",
       "  </tbody>\n",
       "</table>\n",
       "</div>"
      ],
      "text/plain": [
       "                                               title\n",
       "0                       I see the letter B on my car\n",
       "1                   Ok i am on the way to home hi hi\n",
       "2                    I see a cup of coffee animation\n",
       "3  Keep yourself safe for me because I need you a...\n",
       "4  Or ill be a little closer like at the bus stop..."
      ]
     },
     "execution_count": 10,
     "metadata": {},
     "output_type": "execute_result"
    }
   ],
   "source": [
    "real_messages.head()"
   ]
  },
  {
   "cell_type": "code",
   "execution_count": 11,
   "metadata": {},
   "outputs": [
    {
     "name": "stdout",
     "output_type": "stream",
     "text": [
      "8 number of indexes will be deleted\n",
      "Data size went from 84 to 76\n",
      "CPU times: user 1.91 ms, sys: 366 µs, total: 2.28 ms\n",
      "Wall time: 2.03 ms\n"
     ]
    }
   ],
   "source": [
    "%%time\n",
    "indexes = remove_single_words(real_messages)\n",
    "print('{} number of indexes will be deleted'.format(len(indexes)))\n",
    "no_single_messages = real_messages.drop(real_messages.index[indexes]).reset_index(drop=True)\n",
    "print('Data size went from {} to {}'.format(real_messages.shape[0], no_single_messages.shape[0]))"
   ]
  },
  {
   "cell_type": "code",
   "execution_count": 12,
   "metadata": {},
   "outputs": [],
   "source": [
    "def add_test_message(sentence):\n",
    "    words = sentence.split()\n",
    "    choice = random.randint(0,len(words))\n",
    "    update_sentence = \" \".join(words[:choice]) + \" test \" + \" \".join(words[choice:])\n",
    "    return update_sentence.strip()"
   ]
  },
  {
   "cell_type": "code",
   "execution_count": 13,
   "metadata": {},
   "outputs": [
    {
     "data": {
      "text/plain": [
       "'Hello my test name'"
      ]
     },
     "execution_count": 13,
     "metadata": {},
     "output_type": "execute_result"
    }
   ],
   "source": [
    "# Show that the test message in a random index of the sentence\n",
    "add_test_message(\"Hello my name\")"
   ]
  },
  {
   "cell_type": "code",
   "execution_count": 14,
   "metadata": {},
   "outputs": [],
   "source": [
    "def shuffle_dataframe(df, num_shuffles):\n",
    "    for x in range(num_shuffles):\n",
    "        for column in df.columns:\n",
    "            df[column] = df[column].sample(frac=1).reset_index(drop=True)\n",
    "    return df"
   ]
  },
  {
   "cell_type": "code",
   "execution_count": 15,
   "metadata": {},
   "outputs": [],
   "source": [
    "def create_default_scenario(df):\n",
    "    scenario = pd.DataFrame(df)\n",
    "    scenario['subtitle'] = scenario['title']\n",
    "    scenario['message'] = scenario['title']\n",
    "    return scenario"
   ]
  },
  {
   "cell_type": "code",
   "execution_count": 16,
   "metadata": {},
   "outputs": [],
   "source": [
    "def create_scenario_one(messages):\n",
    "    df = create_default_scenario(messages)\n",
    "    df = shuffle_dataframe(df, num_shuffles=30)\n",
    "    for index in df.index:\n",
    "        prob = random.random()\n",
    "        choice = random.choice(df.columns)\n",
    "        if prob < 0.33:\n",
    "            df.loc[index][choice] = add_test_message(df.loc[index][choice])\n",
    "        elif prob < 0.66:\n",
    "            columns = list(df.columns)\n",
    "            df.loc[index][choice] = add_test_message(df.loc[index][choice])\n",
    "            columns.remove(choice)\n",
    "            choice = random.choice(columns)\n",
    "            df.loc[index][choice] = add_test_message(df.loc[index][choice])\n",
    "        else:\n",
    "            for column in df.columns:\n",
    "                df.loc[index][column] = add_test_message(df.loc[index][column])\n",
    "        return df"
   ]
  },
  {
   "cell_type": "code",
   "execution_count": 17,
   "metadata": {},
   "outputs": [],
   "source": [
    "def create_scenario_two(messages):\n",
    "    return create_default_scenario(messages)"
   ]
  },
  {
   "cell_type": "code",
   "execution_count": 18,
   "metadata": {},
   "outputs": [],
   "source": [
    "def create_scenario_three(messages):\n",
    "    df = create_default_scenario(messages)\n",
    "    for column in df.columns:\n",
    "        df[column] = df[column].apply(lambda x: x.split()[0])\n",
    "    return df"
   ]
  },
  {
   "cell_type": "code",
   "execution_count": 19,
   "metadata": {},
   "outputs": [],
   "source": [
    "import string\n",
    "def create_random_chars():\n",
    "    letters = string.ascii_letters\n",
    "    num_chars = random.randint(5, 30)\n",
    "    return \"\".join([random.choice(string.ascii_letters) for _ in range(num_chars)])\n",
    "\n",
    "def create_scenario_four(messages):\n",
    "    df = create_default_scenario(messages)\n",
    "    for column in df.columns:\n",
    "        df[column] = df[column].apply(lambda x: create_random_chars())\n",
    "    return df"
   ]
  },
  {
   "cell_type": "code",
   "execution_count": 20,
   "metadata": {},
   "outputs": [
    {
     "data": {
      "text/html": [
       "<div>\n",
       "<style scoped>\n",
       "    .dataframe tbody tr th:only-of-type {\n",
       "        vertical-align: middle;\n",
       "    }\n",
       "\n",
       "    .dataframe tbody tr th {\n",
       "        vertical-align: top;\n",
       "    }\n",
       "\n",
       "    .dataframe thead th {\n",
       "        text-align: right;\n",
       "    }\n",
       "</style>\n",
       "<table border=\"1\" class=\"dataframe\">\n",
       "  <thead>\n",
       "    <tr style=\"text-align: right;\">\n",
       "      <th></th>\n",
       "      <th>title</th>\n",
       "      <th>subtitle</th>\n",
       "      <th>message</th>\n",
       "    </tr>\n",
       "  </thead>\n",
       "  <tbody>\n",
       "    <tr>\n",
       "      <th>0</th>\n",
       "      <td>U should test have made an appointment</td>\n",
       "      <td>Ok leave no need to ask</td>\n",
       "      <td>Which is weird because test I know I had it at...</td>\n",
       "    </tr>\n",
       "    <tr>\n",
       "      <th>1</th>\n",
       "      <td>Keep yourself safe for me because I need you a...</td>\n",
       "      <td>did u get that message</td>\n",
       "      <td>Sitting in mu waiting for everyone to get out ...</td>\n",
       "    </tr>\n",
       "    <tr>\n",
       "      <th>2</th>\n",
       "      <td>No da if you run that it activate the full ver...</td>\n",
       "      <td>No da if you run that it activate the full ver...</td>\n",
       "      <td>I didnt get anything da</td>\n",
       "    </tr>\n",
       "    <tr>\n",
       "      <th>3</th>\n",
       "      <td>I have a rather prominent bite mark on my righ...</td>\n",
       "      <td>I will come tomorrow di</td>\n",
       "      <td>Btw regarding that we should really try to see...</td>\n",
       "    </tr>\n",
       "    <tr>\n",
       "      <th>4</th>\n",
       "      <td>No need to say anything to me. I know i am an ...</td>\n",
       "      <td>Ok ill tell the company</td>\n",
       "      <td>Ok i am on the way to railway</td>\n",
       "    </tr>\n",
       "  </tbody>\n",
       "</table>\n",
       "</div>"
      ],
      "text/plain": [
       "                                               title  \\\n",
       "0             U should test have made an appointment   \n",
       "1  Keep yourself safe for me because I need you a...   \n",
       "2  No da if you run that it activate the full ver...   \n",
       "3  I have a rather prominent bite mark on my righ...   \n",
       "4  No need to say anything to me. I know i am an ...   \n",
       "\n",
       "                                            subtitle  \\\n",
       "0                            Ok leave no need to ask   \n",
       "1                             did u get that message   \n",
       "2  No da if you run that it activate the full ver...   \n",
       "3                            I will come tomorrow di   \n",
       "4                            Ok ill tell the company   \n",
       "\n",
       "                                             message  \n",
       "0  Which is weird because test I know I had it at...  \n",
       "1  Sitting in mu waiting for everyone to get out ...  \n",
       "2                            I didnt get anything da  \n",
       "3  Btw regarding that we should really try to see...  \n",
       "4                      Ok i am on the way to railway  "
      ]
     },
     "execution_count": 20,
     "metadata": {},
     "output_type": "execute_result"
    }
   ],
   "source": [
    "create_scenario_one(no_single_messages).head()"
   ]
  },
  {
   "cell_type": "code",
   "execution_count": 21,
   "metadata": {},
   "outputs": [
    {
     "data": {
      "text/html": [
       "<div>\n",
       "<style scoped>\n",
       "    .dataframe tbody tr th:only-of-type {\n",
       "        vertical-align: middle;\n",
       "    }\n",
       "\n",
       "    .dataframe tbody tr th {\n",
       "        vertical-align: top;\n",
       "    }\n",
       "\n",
       "    .dataframe thead th {\n",
       "        text-align: right;\n",
       "    }\n",
       "</style>\n",
       "<table border=\"1\" class=\"dataframe\">\n",
       "  <thead>\n",
       "    <tr style=\"text-align: right;\">\n",
       "      <th></th>\n",
       "      <th>title</th>\n",
       "      <th>subtitle</th>\n",
       "      <th>message</th>\n",
       "    </tr>\n",
       "  </thead>\n",
       "  <tbody>\n",
       "    <tr>\n",
       "      <th>0</th>\n",
       "      <td>U should have made an appointment</td>\n",
       "      <td>U should have made an appointment</td>\n",
       "      <td>U should have made an appointment</td>\n",
       "    </tr>\n",
       "    <tr>\n",
       "      <th>1</th>\n",
       "      <td>Keep yourself safe for me because I need you a...</td>\n",
       "      <td>Keep yourself safe for me because I need you a...</td>\n",
       "      <td>Keep yourself safe for me because I need you a...</td>\n",
       "    </tr>\n",
       "    <tr>\n",
       "      <th>2</th>\n",
       "      <td>No da if you run that it activate the full ver...</td>\n",
       "      <td>No da if you run that it activate the full ver...</td>\n",
       "      <td>No da if you run that it activate the full ver...</td>\n",
       "    </tr>\n",
       "    <tr>\n",
       "      <th>3</th>\n",
       "      <td>I have a rather prominent bite mark on my righ...</td>\n",
       "      <td>I have a rather prominent bite mark on my righ...</td>\n",
       "      <td>I have a rather prominent bite mark on my righ...</td>\n",
       "    </tr>\n",
       "    <tr>\n",
       "      <th>4</th>\n",
       "      <td>No need to say anything to me. I know i am an ...</td>\n",
       "      <td>No need to say anything to me. I know i am an ...</td>\n",
       "      <td>No need to say anything to me. I know i am an ...</td>\n",
       "    </tr>\n",
       "  </tbody>\n",
       "</table>\n",
       "</div>"
      ],
      "text/plain": [
       "                                               title  \\\n",
       "0                  U should have made an appointment   \n",
       "1  Keep yourself safe for me because I need you a...   \n",
       "2  No da if you run that it activate the full ver...   \n",
       "3  I have a rather prominent bite mark on my righ...   \n",
       "4  No need to say anything to me. I know i am an ...   \n",
       "\n",
       "                                            subtitle  \\\n",
       "0                  U should have made an appointment   \n",
       "1  Keep yourself safe for me because I need you a...   \n",
       "2  No da if you run that it activate the full ver...   \n",
       "3  I have a rather prominent bite mark on my righ...   \n",
       "4  No need to say anything to me. I know i am an ...   \n",
       "\n",
       "                                             message  \n",
       "0                  U should have made an appointment  \n",
       "1  Keep yourself safe for me because I need you a...  \n",
       "2  No da if you run that it activate the full ver...  \n",
       "3  I have a rather prominent bite mark on my righ...  \n",
       "4  No need to say anything to me. I know i am an ...  "
      ]
     },
     "execution_count": 21,
     "metadata": {},
     "output_type": "execute_result"
    }
   ],
   "source": [
    "create_scenario_two(no_single_messages).head()"
   ]
  },
  {
   "cell_type": "code",
   "execution_count": 22,
   "metadata": {},
   "outputs": [
    {
     "data": {
      "text/html": [
       "<div>\n",
       "<style scoped>\n",
       "    .dataframe tbody tr th:only-of-type {\n",
       "        vertical-align: middle;\n",
       "    }\n",
       "\n",
       "    .dataframe tbody tr th {\n",
       "        vertical-align: top;\n",
       "    }\n",
       "\n",
       "    .dataframe thead th {\n",
       "        text-align: right;\n",
       "    }\n",
       "</style>\n",
       "<table border=\"1\" class=\"dataframe\">\n",
       "  <thead>\n",
       "    <tr style=\"text-align: right;\">\n",
       "      <th></th>\n",
       "      <th>title</th>\n",
       "      <th>subtitle</th>\n",
       "      <th>message</th>\n",
       "    </tr>\n",
       "  </thead>\n",
       "  <tbody>\n",
       "    <tr>\n",
       "      <th>0</th>\n",
       "      <td>U</td>\n",
       "      <td>U</td>\n",
       "      <td>U</td>\n",
       "    </tr>\n",
       "    <tr>\n",
       "      <th>1</th>\n",
       "      <td>Keep</td>\n",
       "      <td>Keep</td>\n",
       "      <td>Keep</td>\n",
       "    </tr>\n",
       "    <tr>\n",
       "      <th>2</th>\n",
       "      <td>No</td>\n",
       "      <td>No</td>\n",
       "      <td>No</td>\n",
       "    </tr>\n",
       "    <tr>\n",
       "      <th>3</th>\n",
       "      <td>I</td>\n",
       "      <td>I</td>\n",
       "      <td>I</td>\n",
       "    </tr>\n",
       "    <tr>\n",
       "      <th>4</th>\n",
       "      <td>No</td>\n",
       "      <td>No</td>\n",
       "      <td>No</td>\n",
       "    </tr>\n",
       "  </tbody>\n",
       "</table>\n",
       "</div>"
      ],
      "text/plain": [
       "  title subtitle message\n",
       "0     U        U       U\n",
       "1  Keep     Keep    Keep\n",
       "2    No       No      No\n",
       "3     I        I       I\n",
       "4    No       No      No"
      ]
     },
     "execution_count": 22,
     "metadata": {},
     "output_type": "execute_result"
    }
   ],
   "source": [
    "create_scenario_three(no_single_messages).head()"
   ]
  },
  {
   "cell_type": "code",
   "execution_count": 23,
   "metadata": {},
   "outputs": [
    {
     "data": {
      "text/html": [
       "<div>\n",
       "<style scoped>\n",
       "    .dataframe tbody tr th:only-of-type {\n",
       "        vertical-align: middle;\n",
       "    }\n",
       "\n",
       "    .dataframe tbody tr th {\n",
       "        vertical-align: top;\n",
       "    }\n",
       "\n",
       "    .dataframe thead th {\n",
       "        text-align: right;\n",
       "    }\n",
       "</style>\n",
       "<table border=\"1\" class=\"dataframe\">\n",
       "  <thead>\n",
       "    <tr style=\"text-align: right;\">\n",
       "      <th></th>\n",
       "      <th>title</th>\n",
       "      <th>subtitle</th>\n",
       "      <th>message</th>\n",
       "    </tr>\n",
       "  </thead>\n",
       "  <tbody>\n",
       "    <tr>\n",
       "      <th>0</th>\n",
       "      <td>XNoRaDFIZi</td>\n",
       "      <td>qWkqsOwgw</td>\n",
       "      <td>sKCYqqWFfpcOfpRCOdskkVFvrdHq</td>\n",
       "    </tr>\n",
       "    <tr>\n",
       "      <th>1</th>\n",
       "      <td>RDGZhMhmysxfUfnbzqAGPULY</td>\n",
       "      <td>QvhYEdZgmNHQhfrkHtwto</td>\n",
       "      <td>fjQNSwMYFRPCAQhFJ</td>\n",
       "    </tr>\n",
       "    <tr>\n",
       "      <th>2</th>\n",
       "      <td>iVHWamlVeDAaxQyY</td>\n",
       "      <td>XrCJNTAMueApkEfWMyAUuQoSNU</td>\n",
       "      <td>rISuKDDtfb</td>\n",
       "    </tr>\n",
       "    <tr>\n",
       "      <th>3</th>\n",
       "      <td>nRmoIjLRKf</td>\n",
       "      <td>nzMMSDqYlZ</td>\n",
       "      <td>ZnvwEOfCwqeLvtKwrL</td>\n",
       "    </tr>\n",
       "    <tr>\n",
       "      <th>4</th>\n",
       "      <td>BqryuSvgNcUFvilCUnyiYJDcRe</td>\n",
       "      <td>cWPwzaf</td>\n",
       "      <td>bQVaZLyObIA</td>\n",
       "    </tr>\n",
       "  </tbody>\n",
       "</table>\n",
       "</div>"
      ],
      "text/plain": [
       "                        title                    subtitle  \\\n",
       "0                  XNoRaDFIZi                   qWkqsOwgw   \n",
       "1    RDGZhMhmysxfUfnbzqAGPULY       QvhYEdZgmNHQhfrkHtwto   \n",
       "2            iVHWamlVeDAaxQyY  XrCJNTAMueApkEfWMyAUuQoSNU   \n",
       "3                  nRmoIjLRKf                  nzMMSDqYlZ   \n",
       "4  BqryuSvgNcUFvilCUnyiYJDcRe                     cWPwzaf   \n",
       "\n",
       "                        message  \n",
       "0  sKCYqqWFfpcOfpRCOdskkVFvrdHq  \n",
       "1             fjQNSwMYFRPCAQhFJ  \n",
       "2                    rISuKDDtfb  \n",
       "3            ZnvwEOfCwqeLvtKwrL  \n",
       "4                   bQVaZLyObIA  "
      ]
     },
     "execution_count": 23,
     "metadata": {},
     "output_type": "execute_result"
    }
   ],
   "source": [
    "create_scenario_four(no_single_messages).head()"
   ]
  },
  {
   "cell_type": "code",
   "execution_count": 24,
   "metadata": {},
   "outputs": [],
   "source": [
    "# concatenate dataframes that has possible test messages\n",
    "indexes = remove_single_words(real_messages)\n",
    "no_single_messages = real_messages.drop(real_messages.index[indexes]).reset_index(drop=True)\n",
    "test_messages = pd.concat([create_scenario_one(no_single_messages),\n",
    "          create_scenario_two(no_single_messages),\n",
    "          create_scenario_three(no_single_messages),\n",
    "          create_scenario_four(no_single_messages)])"
   ]
  },
  {
   "cell_type": "code",
   "execution_count": 25,
   "metadata": {},
   "outputs": [
    {
     "data": {
      "text/html": [
       "<div>\n",
       "<style scoped>\n",
       "    .dataframe tbody tr th:only-of-type {\n",
       "        vertical-align: middle;\n",
       "    }\n",
       "\n",
       "    .dataframe tbody tr th {\n",
       "        vertical-align: top;\n",
       "    }\n",
       "\n",
       "    .dataframe thead th {\n",
       "        text-align: right;\n",
       "    }\n",
       "</style>\n",
       "<table border=\"1\" class=\"dataframe\">\n",
       "  <thead>\n",
       "    <tr style=\"text-align: right;\">\n",
       "      <th></th>\n",
       "      <th>title</th>\n",
       "      <th>subtitle</th>\n",
       "      <th>message</th>\n",
       "      <th>label</th>\n",
       "    </tr>\n",
       "  </thead>\n",
       "  <tbody>\n",
       "    <tr>\n",
       "      <th>0</th>\n",
       "      <td>The monthly amount is not that test terrible a...</td>\n",
       "      <td>Damn, can you make test it tonight or do you w...</td>\n",
       "      <td>twenty past five he said test will this train ...</td>\n",
       "      <td>1</td>\n",
       "    </tr>\n",
       "    <tr>\n",
       "      <th>1</th>\n",
       "      <td>Cool, want me to go to kappa or should I meet ...</td>\n",
       "      <td>Ok i am on the way to railway</td>\n",
       "      <td>K do I need a login or anything</td>\n",
       "      <td>1</td>\n",
       "    </tr>\n",
       "    <tr>\n",
       "      <th>2</th>\n",
       "      <td>I can take you at like noon</td>\n",
       "      <td>Please tell me you have some of that special s...</td>\n",
       "      <td>Sitting in mu waiting for everyone to get out ...</td>\n",
       "      <td>1</td>\n",
       "    </tr>\n",
       "    <tr>\n",
       "      <th>3</th>\n",
       "      <td>U should have made an appointment</td>\n",
       "      <td>I need to come home and give you some good lov...</td>\n",
       "      <td>The monthly amount is not that terrible and yo...</td>\n",
       "      <td>1</td>\n",
       "    </tr>\n",
       "    <tr>\n",
       "      <th>4</th>\n",
       "      <td>Keep yourself safe for me because I need you a...</td>\n",
       "      <td>I will see in half an hour</td>\n",
       "      <td>Cool, want me to go to kappa or should I meet ...</td>\n",
       "      <td>1</td>\n",
       "    </tr>\n",
       "  </tbody>\n",
       "</table>\n",
       "</div>"
      ],
      "text/plain": [
       "                                               title  \\\n",
       "0  The monthly amount is not that test terrible a...   \n",
       "1  Cool, want me to go to kappa or should I meet ...   \n",
       "2                        I can take you at like noon   \n",
       "3                  U should have made an appointment   \n",
       "4  Keep yourself safe for me because I need you a...   \n",
       "\n",
       "                                            subtitle  \\\n",
       "0  Damn, can you make test it tonight or do you w...   \n",
       "1                      Ok i am on the way to railway   \n",
       "2  Please tell me you have some of that special s...   \n",
       "3  I need to come home and give you some good lov...   \n",
       "4                         I will see in half an hour   \n",
       "\n",
       "                                             message  label  \n",
       "0  twenty past five he said test will this train ...      1  \n",
       "1                    K do I need a login or anything      1  \n",
       "2  Sitting in mu waiting for everyone to get out ...      1  \n",
       "3  The monthly amount is not that terrible and yo...      1  \n",
       "4  Cool, want me to go to kappa or should I meet ...      1  "
      ]
     },
     "execution_count": 25,
     "metadata": {},
     "output_type": "execute_result"
    }
   ],
   "source": [
    "# add label column for distinguish that this is a test message \n",
    "test_messages['label'] = 1\n",
    "test_messages.head()"
   ]
  },
  {
   "cell_type": "code",
   "execution_count": 26,
   "metadata": {},
   "outputs": [],
   "source": [
    "\n",
    "indexes = remove_single_words(real_messages)\n",
    "no_single_messages = real_messages.drop(real_messages.index[indexes]).reset_index(drop=True)\n",
    "no_test_messages = create_default_scenario(no_single_messages)\n",
    "no_test_messages = shuffle_dataframe(no_test_messages, num_shuffles=30)"
   ]
  },
  {
   "cell_type": "code",
   "execution_count": 27,
   "metadata": {},
   "outputs": [
    {
     "data": {
      "text/html": [
       "<div>\n",
       "<style scoped>\n",
       "    .dataframe tbody tr th:only-of-type {\n",
       "        vertical-align: middle;\n",
       "    }\n",
       "\n",
       "    .dataframe tbody tr th {\n",
       "        vertical-align: top;\n",
       "    }\n",
       "\n",
       "    .dataframe thead th {\n",
       "        text-align: right;\n",
       "    }\n",
       "</style>\n",
       "<table border=\"1\" class=\"dataframe\">\n",
       "  <thead>\n",
       "    <tr style=\"text-align: right;\">\n",
       "      <th></th>\n",
       "      <th>title</th>\n",
       "      <th>subtitle</th>\n",
       "      <th>message</th>\n",
       "      <th>label</th>\n",
       "    </tr>\n",
       "  </thead>\n",
       "  <tbody>\n",
       "    <tr>\n",
       "      <th>0</th>\n",
       "      <td>No da if you run that it activate the full ver...</td>\n",
       "      <td>I think i am disturbing her da</td>\n",
       "      <td>I am on the way to ur home</td>\n",
       "      <td>0</td>\n",
       "    </tr>\n",
       "    <tr>\n",
       "      <th>1</th>\n",
       "      <td>not that I know of, most people up here are st...</td>\n",
       "      <td>I love ya too but try and budget your money be...</td>\n",
       "      <td>Ok which your another number</td>\n",
       "      <td>0</td>\n",
       "    </tr>\n",
       "    <tr>\n",
       "      <th>2</th>\n",
       "      <td>I didnt get anything da</td>\n",
       "      <td>Damn, can you make it tonight or do you want t...</td>\n",
       "      <td>I will come tomorrow di</td>\n",
       "      <td>0</td>\n",
       "    </tr>\n",
       "    <tr>\n",
       "      <th>3</th>\n",
       "      <td>Ok no prob</td>\n",
       "      <td>Ok ill tell the company</td>\n",
       "      <td>K do I need a login or anything</td>\n",
       "      <td>0</td>\n",
       "    </tr>\n",
       "    <tr>\n",
       "      <th>4</th>\n",
       "      <td>Would me smoking you out help us work through ...</td>\n",
       "      <td>I know a few people I can hit up and fuck to t...</td>\n",
       "      <td>We stopped to get ice cream and will go back a...</td>\n",
       "      <td>0</td>\n",
       "    </tr>\n",
       "  </tbody>\n",
       "</table>\n",
       "</div>"
      ],
      "text/plain": [
       "                                               title  \\\n",
       "0  No da if you run that it activate the full ver...   \n",
       "1  not that I know of, most people up here are st...   \n",
       "2                            I didnt get anything da   \n",
       "3                                         Ok no prob   \n",
       "4  Would me smoking you out help us work through ...   \n",
       "\n",
       "                                            subtitle  \\\n",
       "0                     I think i am disturbing her da   \n",
       "1  I love ya too but try and budget your money be...   \n",
       "2  Damn, can you make it tonight or do you want t...   \n",
       "3                            Ok ill tell the company   \n",
       "4  I know a few people I can hit up and fuck to t...   \n",
       "\n",
       "                                             message  label  \n",
       "0                         I am on the way to ur home      0  \n",
       "1                       Ok which your another number      0  \n",
       "2                            I will come tomorrow di      0  \n",
       "3                    K do I need a login or anything      0  \n",
       "4  We stopped to get ice cream and will go back a...      0  "
      ]
     },
     "execution_count": 27,
     "metadata": {},
     "output_type": "execute_result"
    }
   ],
   "source": [
    "no_test_messages['label'] = 0\n",
    "no_test_messages.head()"
   ]
  },
  {
   "cell_type": "code",
   "execution_count": 28,
   "metadata": {},
   "outputs": [],
   "source": [
    "# concatenate dataframes test and not test messages\n",
    "for x in range(30):\n",
    "    df = pd.concat([test_messages, no_test_messages]).sample(frac=1).reset_index(drop=True)"
   ]
  },
  {
   "cell_type": "code",
   "execution_count": 29,
   "metadata": {},
   "outputs": [
    {
     "data": {
      "text/html": [
       "<div>\n",
       "<style scoped>\n",
       "    .dataframe tbody tr th:only-of-type {\n",
       "        vertical-align: middle;\n",
       "    }\n",
       "\n",
       "    .dataframe tbody tr th {\n",
       "        vertical-align: top;\n",
       "    }\n",
       "\n",
       "    .dataframe thead th {\n",
       "        text-align: right;\n",
       "    }\n",
       "</style>\n",
       "<table border=\"1\" class=\"dataframe\">\n",
       "  <thead>\n",
       "    <tr style=\"text-align: right;\">\n",
       "      <th></th>\n",
       "      <th>title</th>\n",
       "      <th>subtitle</th>\n",
       "      <th>message</th>\n",
       "      <th>label</th>\n",
       "    </tr>\n",
       "  </thead>\n",
       "  <tbody>\n",
       "    <tr>\n",
       "      <th>0</th>\n",
       "      <td>AVPLemtRoWhaDIMshwtMmNdWi</td>\n",
       "      <td>eXRGkISUSCqzpIEsAP</td>\n",
       "      <td>OeiZFidIWBaGE</td>\n",
       "      <td>1</td>\n",
       "    </tr>\n",
       "    <tr>\n",
       "      <th>1</th>\n",
       "      <td>FMktkPWwkmsPoqPGQQrqaItwZ</td>\n",
       "      <td>pTaCgBHeZOPoGAnRNExLYWZA</td>\n",
       "      <td>nyxEkdhi</td>\n",
       "      <td>1</td>\n",
       "    </tr>\n",
       "    <tr>\n",
       "      <th>2</th>\n",
       "      <td>pubLanyMpaPXRkYkpL</td>\n",
       "      <td>pNIGiToItqmpzcy</td>\n",
       "      <td>tGzmTKHvCsEXnDsdDNI</td>\n",
       "      <td>1</td>\n",
       "    </tr>\n",
       "    <tr>\n",
       "      <th>3</th>\n",
       "      <td>pubLanyMpaPXRkYkpL</td>\n",
       "      <td>pNIGiToItqmpzcy</td>\n",
       "      <td>tGzmTKHvCsEXnDsdDNI</td>\n",
       "      <td>1</td>\n",
       "    </tr>\n",
       "    <tr>\n",
       "      <th>4</th>\n",
       "      <td>EhMYMfuMsVcWM</td>\n",
       "      <td>bbzbeH</td>\n",
       "      <td>HIjRLMyDLUQQjLQsNVEUgd</td>\n",
       "      <td>1</td>\n",
       "    </tr>\n",
       "  </tbody>\n",
       "</table>\n",
       "</div>"
      ],
      "text/plain": [
       "                       title                  subtitle  \\\n",
       "0  AVPLemtRoWhaDIMshwtMmNdWi        eXRGkISUSCqzpIEsAP   \n",
       "1  FMktkPWwkmsPoqPGQQrqaItwZ  pTaCgBHeZOPoGAnRNExLYWZA   \n",
       "2         pubLanyMpaPXRkYkpL           pNIGiToItqmpzcy   \n",
       "3         pubLanyMpaPXRkYkpL           pNIGiToItqmpzcy   \n",
       "4              EhMYMfuMsVcWM                    bbzbeH   \n",
       "\n",
       "                  message  label  \n",
       "0           OeiZFidIWBaGE      1  \n",
       "1                nyxEkdhi      1  \n",
       "2     tGzmTKHvCsEXnDsdDNI      1  \n",
       "3     tGzmTKHvCsEXnDsdDNI      1  \n",
       "4  HIjRLMyDLUQQjLQsNVEUgd      1  "
      ]
     },
     "execution_count": 29,
     "metadata": {},
     "output_type": "execute_result"
    }
   ],
   "source": [
    "df.head()"
   ]
  },
  {
   "cell_type": "code",
   "execution_count": 30,
   "metadata": {},
   "outputs": [
    {
     "data": {
      "text/html": [
       "<div>\n",
       "<style scoped>\n",
       "    .dataframe tbody tr th:only-of-type {\n",
       "        vertical-align: middle;\n",
       "    }\n",
       "\n",
       "    .dataframe tbody tr th {\n",
       "        vertical-align: top;\n",
       "    }\n",
       "\n",
       "    .dataframe thead tr th {\n",
       "        text-align: left;\n",
       "    }\n",
       "\n",
       "    .dataframe thead tr:last-of-type th {\n",
       "        text-align: right;\n",
       "    }\n",
       "</style>\n",
       "<table border=\"1\" class=\"dataframe\">\n",
       "  <thead>\n",
       "    <tr>\n",
       "      <th></th>\n",
       "      <th colspan=\"4\" halign=\"left\">message</th>\n",
       "      <th colspan=\"4\" halign=\"left\">subtitle</th>\n",
       "      <th colspan=\"4\" halign=\"left\">title</th>\n",
       "    </tr>\n",
       "    <tr>\n",
       "      <th></th>\n",
       "      <th>count</th>\n",
       "      <th>unique</th>\n",
       "      <th>top</th>\n",
       "      <th>freq</th>\n",
       "      <th>count</th>\n",
       "      <th>unique</th>\n",
       "      <th>top</th>\n",
       "      <th>freq</th>\n",
       "      <th>count</th>\n",
       "      <th>unique</th>\n",
       "      <th>top</th>\n",
       "      <th>freq</th>\n",
       "    </tr>\n",
       "    <tr>\n",
       "      <th>label</th>\n",
       "      <th></th>\n",
       "      <th></th>\n",
       "      <th></th>\n",
       "      <th></th>\n",
       "      <th></th>\n",
       "      <th></th>\n",
       "      <th></th>\n",
       "      <th></th>\n",
       "      <th></th>\n",
       "      <th></th>\n",
       "      <th></th>\n",
       "      <th></th>\n",
       "    </tr>\n",
       "  </thead>\n",
       "  <tbody>\n",
       "    <tr>\n",
       "      <th>0</th>\n",
       "      <td>76</td>\n",
       "      <td>72</td>\n",
       "      <td>Ok then i will come to ur home after half an hour</td>\n",
       "      <td>2</td>\n",
       "      <td>76</td>\n",
       "      <td>72</td>\n",
       "      <td>I will come tomorrow di</td>\n",
       "      <td>2</td>\n",
       "      <td>76</td>\n",
       "      <td>72</td>\n",
       "      <td>I am on the way to ur home</td>\n",
       "      <td>2</td>\n",
       "    </tr>\n",
       "    <tr>\n",
       "      <th>1</th>\n",
       "      <td>304</td>\n",
       "      <td>148</td>\n",
       "      <td>ibKtZCNfCXA</td>\n",
       "      <td>3</td>\n",
       "      <td>304</td>\n",
       "      <td>148</td>\n",
       "      <td>CNBulSanBlePlzxEochkNk</td>\n",
       "      <td>3</td>\n",
       "      <td>304</td>\n",
       "      <td>148</td>\n",
       "      <td>QFdAHlQ</td>\n",
       "      <td>3</td>\n",
       "    </tr>\n",
       "  </tbody>\n",
       "</table>\n",
       "</div>"
      ],
      "text/plain": [
       "      message                                                                 \\\n",
       "        count unique                                                top freq   \n",
       "label                                                                          \n",
       "0          76     72  Ok then i will come to ur home after half an hour    2   \n",
       "1         304    148                                        ibKtZCNfCXA    3   \n",
       "\n",
       "      subtitle                                      title         \\\n",
       "         count unique                      top freq count unique   \n",
       "label                                                              \n",
       "0           76     72  I will come tomorrow di    2    76     72   \n",
       "1          304    148   CNBulSanBlePlzxEochkNk    3   304    148   \n",
       "\n",
       "                                        \n",
       "                              top freq  \n",
       "label                                   \n",
       "0      I am on the way to ur home    2  \n",
       "1                         QFdAHlQ    3  "
      ]
     },
     "execution_count": 30,
     "metadata": {},
     "output_type": "execute_result"
    }
   ],
   "source": [
    "df.groupby('label').describe()"
   ]
  },
  {
   "cell_type": "code",
   "execution_count": 31,
   "metadata": {},
   "outputs": [],
   "source": [
    "df['title_length'] = df['title'].apply(len)\n",
    "df['subtitle_length'] = df['subtitle'].apply(len)\n",
    "df['message_length'] = df['message'].apply(len)"
   ]
  },
  {
   "cell_type": "code",
   "execution_count": 32,
   "metadata": {},
   "outputs": [
    {
     "data": {
      "text/plain": [
       "<matplotlib.axes._subplots.AxesSubplot at 0x1229e0cc0>"
      ]
     },
     "execution_count": 32,
     "metadata": {},
     "output_type": "execute_result"
    },
    {
     "data": {
      "image/png": "[encoded data removed]",
      "text/plain": [
       "<Figure size 432x288 with 1 Axes>"
      ]
     },
     "metadata": {
      "needs_background": "light"
     },
     "output_type": "display_data"
    }
   ],
   "source": [
    "df['title_length'].plot(bins=50,kind='hist')"
   ]
  },
  {
   "cell_type": "code",
   "execution_count": 33,
   "metadata": {},
   "outputs": [
    {
     "data": {
      "text/plain": [
       "<matplotlib.axes._subplots.AxesSubplot at 0x126edce80>"
      ]
     },
     "execution_count": 33,
     "metadata": {},
     "output_type": "execute_result"
    },
    {
     "data": {
      "image/png": "[encoded data removed]",
      "text/plain": [
       "<Figure size 432x288 with 1 Axes>"
      ]
     },
     "metadata": {
      "needs_background": "light"
     },
     "output_type": "display_data"
    }
   ],
   "source": [
    "df['subtitle_length'].plot(bins=50,kind='hist')"
   ]
  },
  {
   "cell_type": "code",
   "execution_count": 34,
   "metadata": {},
   "outputs": [
    {
     "data": {
      "text/plain": [
       "<matplotlib.axes._subplots.AxesSubplot at 0x126fd6cc0>"
      ]
     },
     "execution_count": 34,
     "metadata": {},
     "output_type": "execute_result"
    },
    {
     "data": {
      "image/png": "[encoded data removed]",
      "text/plain": [
       "<Figure size 432x288 with 1 Axes>"
      ]
     },
     "metadata": {
      "needs_background": "light"
     },
     "output_type": "display_data"
    }
   ],
   "source": [
    "df['message_length'].plot(bins=50,kind='hist')"
   ]
  },
  {
   "cell_type": "code",
   "execution_count": null,
   "metadata": {},
   "outputs": [],
   "source": []
  }
 ],
 "metadata": {
  "kernelspec": {
   "display_name": "Python 3",
   "language": "python",
   "name": "python3"
  },
  "language_info": {
   "codemirror_mode": {
    "name": "ipython",
    "version": 3
   },
   "file_extension": ".py",
   "mimetype": "text/x-python",
   "name": "python",
   "nbconvert_exporter": "python",
   "pygments_lexer": "ipython3",
   "version": "3.6.5"
  }
 },
 "nbformat": 4,
 "nbformat_minor": 2
}
